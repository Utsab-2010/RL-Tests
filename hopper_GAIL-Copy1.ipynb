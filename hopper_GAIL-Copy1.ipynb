{
 "cells": [
  {
   "cell_type": "code",
   "execution_count": 3,
   "id": "f04b01bd-1af1-49bf-be3c-176da86a9405",
   "metadata": {},
   "outputs": [],
   "source": [
    "import gym\n",
    "import d4rl # Import required to register environments\n",
    "# import time \n",
    "import torch\n",
    "import torch.nn as nn\n",
    "from torch.utils.data import Dataset\n",
    "from torch.utils.data.dataloader import DataLoader\n",
    "from torch.utils.data import random_split\n",
    "import torch.nn.functional as F\n",
    "import matplotlib.pyplot as plt\n",
    "import numpy as np\n",
    "%matplotlib inline"
   ]
  },
  {
   "cell_type": "code",
   "execution_count": 4,
   "id": "9be9818b-d715-4821-b464-62d3a79c81b3",
   "metadata": {},
   "outputs": [],
   "source": [
    "class TensorPairDataset(Dataset):\n",
    "    def __init__(self, tensor1, tensor2):\n",
    "        assert len(tensor1) == len(tensor2), \"Tensors must have the same length\"\n",
    "        self.tensor1 = tensor1\n",
    "        self.tensor2 = tensor2\n",
    "\n",
    "    def __len__(self):\n",
    "        return len(self.tensor1)\n",
    "\n",
    "    def __getitem__(self, idx):\n",
    "        return self.tensor1[idx], self.tensor2[idx]"
   ]
  },
  {
   "cell_type": "code",
   "execution_count": 6,
   "id": "f2580782-3981-4bcb-9e48-f1f4177bfbaa",
   "metadata": {},
   "outputs": [
    {
     "name": "stderr",
     "output_type": "stream",
     "text": [
      "load datafile: 100%|██████████████████████████████| 5/5 [00:00<00:00, 20.21it/s]\n"
     ]
    }
   ],
   "source": [
    "env = gym.make(\"hopper-expert-v0\")\n",
    "dataset = env.get_dataset()"
   ]
  },
  {
   "cell_type": "code",
   "execution_count": 7,
   "id": "de952d19-fb43-4aaa-bac4-6021ff32224f",
   "metadata": {},
   "outputs": [
    {
     "data": {
      "text/plain": [
       "1000000"
      ]
     },
     "execution_count": 7,
     "metadata": {},
     "output_type": "execute_result"
    }
   ],
   "source": [
    "len(dataset['observations'])"
   ]
  },
  {
   "cell_type": "code",
   "execution_count": 8,
   "id": "8c58dfac-d297-497a-9245-da1c00a81233",
   "metadata": {},
   "outputs": [
    {
     "data": {
      "text/plain": [
       "0"
      ]
     },
     "execution_count": 8,
     "metadata": {},
     "output_type": "execute_result"
    }
   ],
   "source": [
    "data_array = np.array(dataset[\"rewards\"][:10000])\n",
    "neg_array = data_array[data_array<0]\n",
    "neg_array.size"
   ]
  },
  {
   "cell_type": "code",
   "execution_count": 9,
   "id": "b030a412-c579-4b6f-adef-747325d2b55d",
   "metadata": {},
   "outputs": [],
   "source": [
    "observations = torch.tensor(dataset['observations'])[:10000]\n",
    "mean = observations.mean(dim=0)\n",
    "std = observations.std(dim=0)\n",
    "observations = (observations - mean)/std\n",
    "actions = torch.tensor(dataset['actions'])[:10000]\n",
    "data = TensorPairDataset(observations,actions)"
   ]
  },
  {
   "cell_type": "code",
   "execution_count": 10,
   "id": "19d5d294-d33b-4716-963b-0ad7923b273a",
   "metadata": {},
   "outputs": [
    {
     "data": {
      "text/plain": [
       "tensor([[-0.7744,  0.7826,  2.3278,  ...,  0.0355,  0.0036, -0.0113],\n",
       "        [-0.7768,  0.8052,  2.3472,  ...,  0.2680, -0.2564,  0.1914],\n",
       "        [-0.7831,  0.7728,  2.3604,  ...,  0.1356, -0.6247,  0.2166],\n",
       "        ...,\n",
       "        [ 1.3501, -0.4600,  0.7185,  ..., -0.8782,  0.6239,  1.1158],\n",
       "        [ 1.3850, -0.5587,  0.6150,  ..., -1.5694,  0.8177,  1.1408],\n",
       "        [ 1.4168, -0.6333,  0.5020,  ..., -1.1095,  1.2184,  1.2135]])"
      ]
     },
     "execution_count": 10,
     "metadata": {},
     "output_type": "execute_result"
    }
   ],
   "source": [
    "observations"
   ]
  },
  {
   "cell_type": "code",
   "execution_count": 11,
   "id": "909451a1-8ba8-4d6c-97d9-14f17828b64a",
   "metadata": {},
   "outputs": [
    {
     "data": {
      "text/plain": [
       "array([1.0022607, 0.9360265, 0.875334 , ..., 3.9473813, 4.018456 ,\n",
       "       4.088552 ], dtype=float32)"
      ]
     },
     "execution_count": 11,
     "metadata": {},
     "output_type": "execute_result"
    }
   ],
   "source": [
    "dataset[\"rewards\"][:10000]"
   ]
  },
  {
   "cell_type": "code",
   "execution_count": 12,
   "id": "ac57a681-8024-45e8-96ef-c44c76661b7e",
   "metadata": {},
   "outputs": [
    {
     "data": {
      "text/plain": [
       "array([ 1.25065395e+00,  5.15322098e-04,  2.56907556e-03,  1.12065679e-03,\n",
       "       -2.75406998e-03,  3.37945536e-03, -9.39735721e-04, -1.46458999e-03,\n",
       "       -3.55131583e-03,  2.91269958e-03, -3.50517417e-03])"
      ]
     },
     "execution_count": 12,
     "metadata": {},
     "output_type": "execute_result"
    }
   ],
   "source": [
    "env.reset()"
   ]
  },
  {
   "cell_type": "code",
   "execution_count": 13,
   "id": "e681e375-f509-4639-92d2-58cb2d93fd01",
   "metadata": {},
   "outputs": [],
   "source": [
    "train_ds, test_ds = random_split(data,[9000,1000])\n"
   ]
  },
  {
   "cell_type": "code",
   "execution_count": 14,
   "id": "c170c608-cef5-4638-9f37-e6898cf3d04b",
   "metadata": {},
   "outputs": [],
   "source": [
    "batch_size=128"
   ]
  },
  {
   "cell_type": "code",
   "execution_count": 15,
   "id": "c9a265a4-96e2-4e86-8d19-a1af9d66ef6d",
   "metadata": {},
   "outputs": [],
   "source": [
    "train_loader = DataLoader(train_ds, batch_size, shuffle=True, num_workers=4, pin_memory=True)\n",
    "test_loader = DataLoader(test_ds, 2*batch_size, num_workers=4, pin_memory=True)"
   ]
  },
  {
   "cell_type": "code",
   "execution_count": 16,
   "id": "c23c36fd-20fd-4451-8810-89ff7321716d",
   "metadata": {},
   "outputs": [],
   "source": [
    "def accuracy(loss):\n",
    "    return torch.exp(-loss)"
   ]
  },
  {
   "cell_type": "code",
   "execution_count": 17,
   "id": "0ec51bb6-f0f3-4e7d-aa90-47135b9dd877",
   "metadata": {},
   "outputs": [],
   "source": [
    "def normalize(input):\n",
    "    mean = input.mean(dim=0)\n",
    "    std = input.std(dim=0)\n",
    "    input = (input - mean)/std\n",
    "    return input\n",
    "\n",
    "class Normalize(nn.Module):\n",
    "    def __init__(self):\n",
    "        super().__init__()\n",
    "\n",
    "    def forward(self, input):\n",
    "        mean = input.mean(dim=0)\n",
    "        std = input.std(dim=0)\n",
    "        input = (input - mean)/std\n",
    "        return input        "
   ]
  },
  {
   "cell_type": "code",
   "execution_count": 172,
   "id": "c4a94f67-51d8-4f8d-a9b9-41fa92229b35",
   "metadata": {},
   "outputs": [],
   "source": [
    "class B_Network(nn.Module):\n",
    "    def __init__(self,input_size,output_size):\n",
    "        super().__init__()\n",
    "        self.network = nn.Sequential(nn.Linear(input_size,64),\n",
    "                                     nn.ReLU(),\n",
    "                                     nn.BatchNorm1d(64),\n",
    "                                     nn.Linear(64,24),\n",
    "                                     nn.ReLU(),\n",
    "                                     nn.BatchNorm1d(24),\n",
    "                                     nn.Linear(24,output_size),\n",
    "                                     nn.Tanh())\n",
    "    def forward(self,state):\n",
    "            return self.network(state)\n",
    "    \n",
    "    def training_step(self, batch):\n",
    "        state, action = batch \n",
    "        out = self(state)                  # Generate predictions\n",
    "        loss = F.mse_loss(out, action) # Calculate loss\n",
    "        return loss\n",
    "    \n",
    "    def validation_step(self, batch):\n",
    "        state, action = batch \n",
    "        out = self(state)                    # Generate predictions\n",
    "        loss = F.mse_loss(out, action)   # Calculate loss\n",
    "        acc = accuracy(loss)           # Calculate accuracy\n",
    "        return {'val_loss': loss, 'val_acc': acc}\n",
    "        \n",
    "    def validation_epoch_end(self, outputs):\n",
    "        batch_losses = [x['val_loss'] for x in outputs]\n",
    "        epoch_loss = torch.stack(batch_losses).mean()   # Combine losses\n",
    "        batch_accs = [x['val_acc'] for x in outputs]\n",
    "        epoch_acc = torch.stack(batch_accs).mean()      # Combine accuracies\n",
    "        return {'val_loss': epoch_loss.item(), 'val_acc': epoch_acc.item()}\n",
    "    \n",
    "    def epoch_end(self, epoch, result):\n",
    "        print(\"Epoch [{}], val_loss: {:.4f}, val_acc: {:.4f}\".format(epoch, result['val_loss'], result['val_acc']))"
   ]
  },
  {
   "cell_type": "code",
   "execution_count": 173,
   "id": "9e5e1f95-dce3-40ae-8b30-476673b1fc8a",
   "metadata": {},
   "outputs": [],
   "source": [
    "def get_default_device():\n",
    "    \"\"\"Pick GPU if available, else CPU\"\"\"\n",
    "    if torch.cuda.is_available():\n",
    "        return torch.device('cuda')\n",
    "    else:\n",
    "        return torch.device('cpu')"
   ]
  },
  {
   "cell_type": "code",
   "execution_count": 174,
   "id": "57c53378-6d10-4f97-9846-c292ce505817",
   "metadata": {},
   "outputs": [
    {
     "data": {
      "text/plain": [
       "device(type='cuda')"
      ]
     },
     "execution_count": 174,
     "metadata": {},
     "output_type": "execute_result"
    }
   ],
   "source": [
    "device = get_default_device()\n",
    "device"
   ]
  },
  {
   "cell_type": "code",
   "execution_count": 175,
   "id": "f6e7e454-6965-4ebb-b298-08ad0c22a489",
   "metadata": {},
   "outputs": [],
   "source": [
    "def to_device(data, device):\n",
    "    \"\"\"Move tensor(s) to chosen device\"\"\"\n",
    "    if isinstance(data, (list,tuple)):\n",
    "        return [to_device(x, device) for x in data]\n",
    "    return data.to(device, non_blocking=True)"
   ]
  },
  {
   "cell_type": "code",
   "execution_count": 176,
   "id": "de670249-1663-4fc6-8aa1-e6b21e3a4275",
   "metadata": {},
   "outputs": [],
   "source": [
    "class DeviceDataLoader():\n",
    "    \"\"\"Wrap a dataloader to move data to a device\"\"\"\n",
    "    def __init__(self, dl, device):\n",
    "        self.dl = dl\n",
    "        self.device = device\n",
    "        \n",
    "    def __iter__(self):\n",
    "        \"\"\"Yield a batch of data after moving it to device\"\"\"\n",
    "        for b in self.dl: \n",
    "            yield to_device(b, self.device)\n",
    "\n",
    "    def __len__(self):\n",
    "        \"\"\"Number of batches\"\"\"\n",
    "        return len(self.dl)"
   ]
  },
  {
   "cell_type": "code",
   "execution_count": 177,
   "id": "5cbb2d4e-c378-4db5-be87-f2a9f8aa9db8",
   "metadata": {},
   "outputs": [],
   "source": [
    "train_loader = DeviceDataLoader(train_loader, device)\n",
    "test_loader = DeviceDataLoader(test_loader, device)"
   ]
  },
  {
   "cell_type": "code",
   "execution_count": 178,
   "id": "7c07a03c-7357-429d-90b2-4ef40016f1ce",
   "metadata": {},
   "outputs": [
    {
     "data": {
      "text/plain": [
       "71"
      ]
     },
     "execution_count": 178,
     "metadata": {},
     "output_type": "execute_result"
    }
   ],
   "source": [
    "len(train_loader)"
   ]
  },
  {
   "cell_type": "code",
   "execution_count": 208,
   "id": "da6dd213-ff8c-4804-89af-9b8929e62a71",
   "metadata": {},
   "outputs": [],
   "source": [
    "def evaluate(model, val_loader):\n",
    "    \"\"\"Evaluate the model's performance on the validation set\"\"\"\n",
    "    outputs = [model.validation_step(batch) for batch in val_loader]\n",
    "    return model.validation_epoch_end(outputs)\n",
    "\n",
    "def fit(epochs, max_lr, model, train_loader, val_loader,weight_decay=0,grad_clip=None, opt_func=torch.optim.Adam):\n",
    "    \"\"\"Train the model using gradient descent\"\"\"\n",
    "    \n",
    "    history = []\n",
    "    optimizer = opt_func(model.parameters(), max_lr)\n",
    "    # scheduler = torch.optim.lr_scheduler.ReduceLROnPlateau(optimizer, 'min', patience=5)\n",
    "    sched = torch.optim.lr_scheduler.OneCycleLR(optimizer, max_lr, epochs=epochs, \n",
    "                                                steps_per_epoch=len(train_loader))\n",
    "    for epoch in range(epochs):\n",
    "        # Training Phase \n",
    "        for batch in train_loader:\n",
    "            loss = model.training_step(batch)\n",
    "            loss.backward()\n",
    "            \n",
    "            if grad_clip: \n",
    "                nn.utils.clip_grad_value_(model.parameters(), grad_clip)\n",
    "\n",
    "            optimizer.step()\n",
    "            sched.step()\n",
    "            optimizer.zero_grad()\n",
    "        # Validation phase\n",
    "        result = evaluate(model, val_loader)\n",
    "        model.epoch_end(epoch, result)\n",
    "        history.append(result)\n",
    "    return history"
   ]
  },
  {
   "cell_type": "code",
   "execution_count": 209,
   "id": "af8101c2-859a-4cd5-9d9e-6c24a054c5db",
   "metadata": {},
   "outputs": [
    {
     "data": {
      "text/plain": [
       "B_Network(\n",
       "  (network): Sequential(\n",
       "    (0): Linear(in_features=11, out_features=64, bias=True)\n",
       "    (1): ReLU()\n",
       "    (2): BatchNorm1d(64, eps=1e-05, momentum=0.1, affine=True, track_running_stats=True)\n",
       "    (3): Linear(in_features=64, out_features=24, bias=True)\n",
       "    (4): ReLU()\n",
       "    (5): BatchNorm1d(24, eps=1e-05, momentum=0.1, affine=True, track_running_stats=True)\n",
       "    (6): Linear(in_features=24, out_features=3, bias=True)\n",
       "    (7): Tanh()\n",
       "  )\n",
       ")"
      ]
     },
     "execution_count": 209,
     "metadata": {},
     "output_type": "execute_result"
    }
   ],
   "source": [
    "# Model (on GPU)\n",
    "model = B_Network(11,3)\n",
    "\n",
    "to_device(model, device)"
   ]
  },
  {
   "cell_type": "code",
   "execution_count": 210,
   "id": "c0d141ec-af86-43cc-8a5b-c31c621eba9a",
   "metadata": {},
   "outputs": [
    {
     "data": {
      "text/plain": [
       "B_Network(\n",
       "  (network): Sequential(\n",
       "    (0): Linear(in_features=11, out_features=64, bias=True)\n",
       "    (1): ReLU()\n",
       "    (2): BatchNorm1d(64, eps=1e-05, momentum=0.1, affine=True, track_running_stats=True)\n",
       "    (3): Linear(in_features=64, out_features=24, bias=True)\n",
       "    (4): ReLU()\n",
       "    (5): BatchNorm1d(24, eps=1e-05, momentum=0.1, affine=True, track_running_stats=True)\n",
       "    (6): Linear(in_features=24, out_features=3, bias=True)\n",
       "    (7): Tanh()\n",
       "  )\n",
       ")"
      ]
     },
     "execution_count": 210,
     "metadata": {},
     "output_type": "execute_result"
    }
   ],
   "source": [
    "to_device(model, device)"
   ]
  },
  {
   "cell_type": "code",
   "execution_count": 211,
   "id": "aa694237-f33e-4a77-b469-aaf2442a0381",
   "metadata": {},
   "outputs": [
    {
     "data": {
      "text/plain": [
       "B_Network(\n",
       "  (network): Sequential(\n",
       "    (0): Linear(in_features=11, out_features=64, bias=True)\n",
       "    (1): ReLU()\n",
       "    (2): BatchNorm1d(64, eps=1e-05, momentum=0.1, affine=True, track_running_stats=True)\n",
       "    (3): Linear(in_features=64, out_features=24, bias=True)\n",
       "    (4): ReLU()\n",
       "    (5): BatchNorm1d(24, eps=1e-05, momentum=0.1, affine=True, track_running_stats=True)\n",
       "    (6): Linear(in_features=24, out_features=3, bias=True)\n",
       "    (7): Tanh()\n",
       "  )\n",
       ")"
      ]
     },
     "execution_count": 211,
     "metadata": {},
     "output_type": "execute_result"
    }
   ],
   "source": [
    "observations\n",
    "model.train()"
   ]
  },
  {
   "cell_type": "code",
   "execution_count": 212,
   "id": "180bd69f-23d8-4b5b-8fcb-8b9973164c52",
   "metadata": {},
   "outputs": [
    {
     "data": {
      "text/plain": [
       "[{'val_loss': 0.5960399508476257, 'val_acc': 0.5512480735778809}]"
      ]
     },
     "execution_count": 212,
     "metadata": {},
     "output_type": "execute_result"
    }
   ],
   "source": [
    "history = [evaluate(model, train_loader)]\n",
    "history"
   ]
  },
  {
   "cell_type": "code",
   "execution_count": 213,
   "id": "a61088a9-2394-4100-add8-feb51dbf629b",
   "metadata": {},
   "outputs": [],
   "source": [
    "grad_clip = 0.01\n",
    "weight_decay = 0.0005\n",
    "max_lr=(batch_size/32.)*0.01\n",
    "epochs=200"
   ]
  },
  {
   "cell_type": "code",
   "execution_count": 214,
   "id": "9c867cc9-371a-413c-9e20-35542ae9463d",
   "metadata": {},
   "outputs": [
    {
     "name": "stdout",
     "output_type": "stream",
     "text": [
      "Epoch [0], val_loss: 0.4821, val_acc: 0.6176\n",
      "Epoch [1], val_loss: 0.4045, val_acc: 0.6674\n",
      "Epoch [2], val_loss: 0.3485, val_acc: 0.7058\n",
      "Epoch [3], val_loss: 0.3082, val_acc: 0.7348\n",
      "Epoch [4], val_loss: 0.2793, val_acc: 0.7564\n",
      "Epoch [5], val_loss: 0.2572, val_acc: 0.7733\n",
      "Epoch [6], val_loss: 0.2396, val_acc: 0.7870\n",
      "Epoch [7], val_loss: 0.2253, val_acc: 0.7983\n",
      "Epoch [8], val_loss: 0.2131, val_acc: 0.8081\n",
      "Epoch [9], val_loss: 0.2025, val_acc: 0.8168\n",
      "Epoch [10], val_loss: 0.1930, val_acc: 0.8246\n",
      "Epoch [11], val_loss: 0.1845, val_acc: 0.8316\n",
      "Epoch [12], val_loss: 0.1759, val_acc: 0.8387\n",
      "Epoch [13], val_loss: 0.1685, val_acc: 0.8450\n",
      "Epoch [14], val_loss: 0.1627, val_acc: 0.8499\n",
      "Epoch [15], val_loss: 0.1566, val_acc: 0.8551\n",
      "Epoch [16], val_loss: 0.1504, val_acc: 0.8604\n",
      "Epoch [17], val_loss: 0.1461, val_acc: 0.8641\n",
      "Epoch [18], val_loss: 0.1422, val_acc: 0.8674\n",
      "Epoch [19], val_loss: 0.1398, val_acc: 0.8695\n",
      "Epoch [20], val_loss: 0.1358, val_acc: 0.8730\n",
      "Epoch [21], val_loss: 0.1347, val_acc: 0.8740\n",
      "Epoch [22], val_loss: 0.1323, val_acc: 0.8761\n",
      "Epoch [23], val_loss: 0.1309, val_acc: 0.8773\n",
      "Epoch [24], val_loss: 0.1268, val_acc: 0.8809\n",
      "Epoch [25], val_loss: 0.1268, val_acc: 0.8809\n",
      "Epoch [26], val_loss: 0.1249, val_acc: 0.8826\n",
      "Epoch [27], val_loss: 0.1231, val_acc: 0.8842\n",
      "Epoch [28], val_loss: 0.1215, val_acc: 0.8856\n",
      "Epoch [29], val_loss: 0.1193, val_acc: 0.8876\n",
      "Epoch [30], val_loss: 0.1208, val_acc: 0.8862\n",
      "Epoch [31], val_loss: 0.1186, val_acc: 0.8881\n",
      "Epoch [32], val_loss: 0.1182, val_acc: 0.8886\n",
      "Epoch [33], val_loss: 0.1159, val_acc: 0.8906\n",
      "Epoch [34], val_loss: 0.1162, val_acc: 0.8903\n",
      "Epoch [35], val_loss: 0.1147, val_acc: 0.8916\n",
      "Epoch [36], val_loss: 0.1162, val_acc: 0.8903\n",
      "Epoch [37], val_loss: 0.1120, val_acc: 0.8941\n",
      "Epoch [38], val_loss: 0.1132, val_acc: 0.8930\n",
      "Epoch [39], val_loss: 0.1111, val_acc: 0.8948\n",
      "Epoch [40], val_loss: 0.1112, val_acc: 0.8948\n",
      "Epoch [41], val_loss: 0.1083, val_acc: 0.8974\n",
      "Epoch [42], val_loss: 0.1106, val_acc: 0.8954\n",
      "Epoch [43], val_loss: 0.1131, val_acc: 0.8931\n",
      "Epoch [44], val_loss: 0.1080, val_acc: 0.8976\n",
      "Epoch [45], val_loss: 0.1086, val_acc: 0.8971\n",
      "Epoch [46], val_loss: 0.1079, val_acc: 0.8977\n",
      "Epoch [47], val_loss: 0.1073, val_acc: 0.8982\n",
      "Epoch [48], val_loss: 0.1079, val_acc: 0.8977\n",
      "Epoch [49], val_loss: 0.1087, val_acc: 0.8970\n",
      "Epoch [50], val_loss: 0.1087, val_acc: 0.8970\n",
      "Epoch [51], val_loss: 0.1061, val_acc: 0.8994\n",
      "Epoch [52], val_loss: 0.1081, val_acc: 0.8975\n",
      "Epoch [53], val_loss: 0.1074, val_acc: 0.8982\n",
      "Epoch [54], val_loss: 0.1066, val_acc: 0.8989\n",
      "Epoch [55], val_loss: 0.1055, val_acc: 0.8999\n",
      "Epoch [56], val_loss: 0.1063, val_acc: 0.8992\n",
      "Epoch [57], val_loss: 0.1078, val_acc: 0.8978\n",
      "Epoch [58], val_loss: 0.1076, val_acc: 0.8980\n",
      "Epoch [59], val_loss: 0.1069, val_acc: 0.8986\n",
      "Epoch [60], val_loss: 0.1065, val_acc: 0.8990\n",
      "Epoch [61], val_loss: 0.1046, val_acc: 0.9007\n",
      "Epoch [62], val_loss: 0.1046, val_acc: 0.9007\n",
      "Epoch [63], val_loss: 0.1045, val_acc: 0.9008\n",
      "Epoch [64], val_loss: 0.1034, val_acc: 0.9018\n",
      "Epoch [65], val_loss: 0.1040, val_acc: 0.9013\n",
      "Epoch [66], val_loss: 0.1040, val_acc: 0.9012\n",
      "Epoch [67], val_loss: 0.1058, val_acc: 0.8996\n",
      "Epoch [68], val_loss: 0.1015, val_acc: 0.9035\n",
      "Epoch [69], val_loss: 0.1016, val_acc: 0.9034\n",
      "Epoch [70], val_loss: 0.1031, val_acc: 0.9021\n",
      "Epoch [71], val_loss: 0.1026, val_acc: 0.9025\n",
      "Epoch [72], val_loss: 0.1054, val_acc: 0.9000\n",
      "Epoch [73], val_loss: 0.1011, val_acc: 0.9039\n",
      "Epoch [74], val_loss: 0.1021, val_acc: 0.9030\n",
      "Epoch [75], val_loss: 0.1018, val_acc: 0.9032\n",
      "Epoch [76], val_loss: 0.1014, val_acc: 0.9036\n",
      "Epoch [77], val_loss: 0.1045, val_acc: 0.9008\n",
      "Epoch [78], val_loss: 0.1020, val_acc: 0.9031\n",
      "Epoch [79], val_loss: 0.0995, val_acc: 0.9053\n",
      "Epoch [80], val_loss: 0.0990, val_acc: 0.9057\n",
      "Epoch [81], val_loss: 0.1016, val_acc: 0.9034\n",
      "Epoch [82], val_loss: 0.0998, val_acc: 0.9051\n",
      "Epoch [83], val_loss: 0.1006, val_acc: 0.9043\n",
      "Epoch [84], val_loss: 0.0990, val_acc: 0.9057\n",
      "Epoch [85], val_loss: 0.0992, val_acc: 0.9056\n",
      "Epoch [86], val_loss: 0.1022, val_acc: 0.9029\n",
      "Epoch [87], val_loss: 0.0979, val_acc: 0.9067\n",
      "Epoch [88], val_loss: 0.0995, val_acc: 0.9053\n",
      "Epoch [89], val_loss: 0.0992, val_acc: 0.9055\n",
      "Epoch [90], val_loss: 0.0981, val_acc: 0.9066\n",
      "Epoch [91], val_loss: 0.0990, val_acc: 0.9057\n",
      "Epoch [92], val_loss: 0.0985, val_acc: 0.9062\n",
      "Epoch [93], val_loss: 0.0973, val_acc: 0.9073\n",
      "Epoch [94], val_loss: 0.0987, val_acc: 0.9060\n",
      "Epoch [95], val_loss: 0.0989, val_acc: 0.9058\n",
      "Epoch [96], val_loss: 0.0995, val_acc: 0.9053\n",
      "Epoch [97], val_loss: 0.0978, val_acc: 0.9069\n",
      "Epoch [98], val_loss: 0.0991, val_acc: 0.9057\n",
      "Epoch [99], val_loss: 0.1014, val_acc: 0.9036\n",
      "Epoch [100], val_loss: 0.0980, val_acc: 0.9066\n",
      "Epoch [101], val_loss: 0.0995, val_acc: 0.9053\n",
      "Epoch [102], val_loss: 0.0991, val_acc: 0.9056\n",
      "Epoch [103], val_loss: 0.0977, val_acc: 0.9069\n",
      "Epoch [104], val_loss: 0.0985, val_acc: 0.9062\n",
      "Epoch [105], val_loss: 0.0954, val_acc: 0.9090\n",
      "Epoch [106], val_loss: 0.0973, val_acc: 0.9073\n",
      "Epoch [107], val_loss: 0.0979, val_acc: 0.9067\n",
      "Epoch [108], val_loss: 0.0969, val_acc: 0.9076\n",
      "Epoch [109], val_loss: 0.0982, val_acc: 0.9065\n",
      "Epoch [110], val_loss: 0.0965, val_acc: 0.9080\n",
      "Epoch [111], val_loss: 0.0969, val_acc: 0.9076\n",
      "Epoch [112], val_loss: 0.0958, val_acc: 0.9086\n",
      "Epoch [113], val_loss: 0.0953, val_acc: 0.9091\n",
      "Epoch [114], val_loss: 0.0963, val_acc: 0.9082\n",
      "Epoch [115], val_loss: 0.0975, val_acc: 0.9071\n",
      "Epoch [116], val_loss: 0.0953, val_acc: 0.9092\n",
      "Epoch [117], val_loss: 0.0962, val_acc: 0.9083\n",
      "Epoch [118], val_loss: 0.0969, val_acc: 0.9077\n",
      "Epoch [119], val_loss: 0.0961, val_acc: 0.9084\n",
      "Epoch [120], val_loss: 0.0973, val_acc: 0.9073\n",
      "Epoch [121], val_loss: 0.0966, val_acc: 0.9079\n",
      "Epoch [122], val_loss: 0.0954, val_acc: 0.9090\n",
      "Epoch [123], val_loss: 0.0955, val_acc: 0.9090\n",
      "Epoch [124], val_loss: 0.0949, val_acc: 0.9095\n",
      "Epoch [125], val_loss: 0.0963, val_acc: 0.9082\n",
      "Epoch [126], val_loss: 0.0952, val_acc: 0.9092\n",
      "Epoch [127], val_loss: 0.0946, val_acc: 0.9098\n",
      "Epoch [128], val_loss: 0.0942, val_acc: 0.9101\n",
      "Epoch [129], val_loss: 0.0943, val_acc: 0.9100\n",
      "Epoch [130], val_loss: 0.0944, val_acc: 0.9100\n",
      "Epoch [131], val_loss: 0.0949, val_acc: 0.9095\n",
      "Epoch [132], val_loss: 0.0954, val_acc: 0.9090\n",
      "Epoch [133], val_loss: 0.0935, val_acc: 0.9108\n",
      "Epoch [134], val_loss: 0.0937, val_acc: 0.9106\n",
      "Epoch [135], val_loss: 0.0952, val_acc: 0.9092\n",
      "Epoch [136], val_loss: 0.0954, val_acc: 0.9090\n",
      "Epoch [137], val_loss: 0.0939, val_acc: 0.9104\n",
      "Epoch [138], val_loss: 0.0938, val_acc: 0.9105\n",
      "Epoch [139], val_loss: 0.0943, val_acc: 0.9100\n",
      "Epoch [140], val_loss: 0.0953, val_acc: 0.9092\n",
      "Epoch [141], val_loss: 0.0949, val_acc: 0.9095\n",
      "Epoch [142], val_loss: 0.0947, val_acc: 0.9096\n",
      "Epoch [143], val_loss: 0.0945, val_acc: 0.9099\n",
      "Epoch [144], val_loss: 0.0934, val_acc: 0.9108\n",
      "Epoch [145], val_loss: 0.0948, val_acc: 0.9096\n",
      "Epoch [146], val_loss: 0.0936, val_acc: 0.9107\n",
      "Epoch [147], val_loss: 0.0947, val_acc: 0.9096\n",
      "Epoch [148], val_loss: 0.0953, val_acc: 0.9091\n",
      "Epoch [149], val_loss: 0.0935, val_acc: 0.9108\n",
      "Epoch [150], val_loss: 0.0931, val_acc: 0.9111\n",
      "Epoch [151], val_loss: 0.0934, val_acc: 0.9108\n",
      "Epoch [152], val_loss: 0.0940, val_acc: 0.9103\n",
      "Epoch [153], val_loss: 0.0933, val_acc: 0.9109\n",
      "Epoch [154], val_loss: 0.0932, val_acc: 0.9110\n",
      "Epoch [155], val_loss: 0.0931, val_acc: 0.9111\n",
      "Epoch [156], val_loss: 0.0928, val_acc: 0.9114\n",
      "Epoch [157], val_loss: 0.0935, val_acc: 0.9108\n",
      "Epoch [158], val_loss: 0.0935, val_acc: 0.9108\n",
      "Epoch [159], val_loss: 0.0934, val_acc: 0.9109\n",
      "Epoch [160], val_loss: 0.0923, val_acc: 0.9118\n",
      "Epoch [161], val_loss: 0.0929, val_acc: 0.9113\n",
      "Epoch [162], val_loss: 0.0927, val_acc: 0.9114\n",
      "Epoch [163], val_loss: 0.0928, val_acc: 0.9114\n",
      "Epoch [164], val_loss: 0.0926, val_acc: 0.9116\n",
      "Epoch [165], val_loss: 0.0930, val_acc: 0.9113\n",
      "Epoch [166], val_loss: 0.0932, val_acc: 0.9110\n",
      "Epoch [167], val_loss: 0.0932, val_acc: 0.9110\n",
      "Epoch [168], val_loss: 0.0926, val_acc: 0.9116\n",
      "Epoch [169], val_loss: 0.0926, val_acc: 0.9116\n",
      "Epoch [170], val_loss: 0.0926, val_acc: 0.9116\n",
      "Epoch [171], val_loss: 0.0926, val_acc: 0.9115\n",
      "Epoch [172], val_loss: 0.0929, val_acc: 0.9113\n",
      "Epoch [173], val_loss: 0.0927, val_acc: 0.9115\n",
      "Epoch [174], val_loss: 0.0929, val_acc: 0.9113\n",
      "Epoch [175], val_loss: 0.0924, val_acc: 0.9118\n",
      "Epoch [176], val_loss: 0.0926, val_acc: 0.9116\n",
      "Epoch [177], val_loss: 0.0925, val_acc: 0.9116\n",
      "Epoch [178], val_loss: 0.0924, val_acc: 0.9117\n",
      "Epoch [179], val_loss: 0.0925, val_acc: 0.9116\n",
      "Epoch [180], val_loss: 0.0924, val_acc: 0.9117\n",
      "Epoch [181], val_loss: 0.0925, val_acc: 0.9117\n",
      "Epoch [182], val_loss: 0.0925, val_acc: 0.9116\n",
      "Epoch [183], val_loss: 0.0924, val_acc: 0.9118\n",
      "Epoch [184], val_loss: 0.0923, val_acc: 0.9118\n",
      "Epoch [185], val_loss: 0.0924, val_acc: 0.9117\n",
      "Epoch [186], val_loss: 0.0924, val_acc: 0.9117\n",
      "Epoch [187], val_loss: 0.0925, val_acc: 0.9116\n",
      "Epoch [188], val_loss: 0.0925, val_acc: 0.9117\n",
      "Epoch [189], val_loss: 0.0925, val_acc: 0.9117\n",
      "Epoch [190], val_loss: 0.0925, val_acc: 0.9117\n",
      "Epoch [191], val_loss: 0.0925, val_acc: 0.9117\n",
      "Epoch [192], val_loss: 0.0925, val_acc: 0.9117\n",
      "Epoch [193], val_loss: 0.0925, val_acc: 0.9117\n",
      "Epoch [194], val_loss: 0.0925, val_acc: 0.9117\n",
      "Epoch [195], val_loss: 0.0925, val_acc: 0.9117\n",
      "Epoch [196], val_loss: 0.0925, val_acc: 0.9117\n",
      "Epoch [197], val_loss: 0.0925, val_acc: 0.9117\n",
      "Epoch [198], val_loss: 0.0925, val_acc: 0.9117\n",
      "Epoch [199], val_loss: 0.0925, val_acc: 0.9117\n"
     ]
    }
   ],
   "source": [
    "history += fit(epochs, 0.001, model, train_loader, test_loader,grad_clip=None,weight_decay=weight_decay)"
   ]
  },
  {
   "cell_type": "code",
   "execution_count": 215,
   "id": "3afc737b-2027-42a2-97ed-4447ae612164",
   "metadata": {},
   "outputs": [],
   "source": [
    "def plot_losses(history):\n",
    "    train_losses = [x.get('val_acc') for x in history]\n",
    "    val_losses = [x['val_loss'] for x in history]\n",
    "    plt.plot(train_losses, '-bx')\n",
    "    plt.plot(val_losses, '-rx')\n",
    "    plt.xlabel('epoch')\n",
    "    plt.ylabel('loss')\n",
    "    plt.legend(['Training', 'Validation'])\n",
    "    plt.title('Loss vs. No. of epochs');\n",
    "    plt.show()"
   ]
  },
  {
   "cell_type": "code",
   "execution_count": 216,
   "id": "dfd6680a-fe4a-4d35-856d-2aa42de4195e",
   "metadata": {},
   "outputs": [
    {
     "data": {
      "image/png": "[encoded data removed]",
      "text/plain": [
       "<Figure size 640x480 with 1 Axes>"
      ]
     },
     "metadata": {},
     "output_type": "display_data"
    }
   ],
   "source": [
    "plot_losses(history)"
   ]
  },
  {
   "cell_type": "code",
   "execution_count": 217,
   "id": "e3b36a11-7fdb-40fc-9a15-fd6f2e9b9086",
   "metadata": {},
   "outputs": [],
   "source": [
    "@torch.no_grad\n",
    "\n",
    "def test(model,episodes):\n",
    "    env = gym.make(\"hopper-medium-v0\")\n",
    "    state = env.reset()\n",
    "    state = torch.from_numpy(state).float().reshape(1,11)\n",
    "    # print(state)\n",
    "    total_reward=0\n",
    "    model.eval()\n",
    "    for ep in range(episodes):\n",
    "        action = model(state).reshape(3)\n",
    "        # print(action)\n",
    "        # print(action)\n",
    "        new_state, reward, done, info= env.step(action.numpy())\n",
    "        # print(env.step(action))\n",
    "        total_reward+=reward\n",
    "        # `\n",
    "        if done:\n",
    "            # print(f\"{ep} Total reward:\",total_reward)\n",
    "            break\n",
    "        state = torch.from_numpy(new_state).float().reshape(1,11)\n",
    "    # print(total_reward)\n",
    "        # img=env.render('rgb_array')\n",
    "        \n",
    "    env.close()\n",
    "    return total_reward"
   ]
  },
  {
   "cell_type": "code",
   "execution_count": 218,
   "id": "1a38b70e-6d0b-40c6-83ad-1bd57de6a300",
   "metadata": {},
   "outputs": [
    {
     "name": "stdout",
     "output_type": "stream",
     "text": [
      "Training mode: False\n",
      "Training mode: False\n"
     ]
    }
   ],
   "source": [
    "model.eval()\n",
    "\n",
    "for module in model.modules():\n",
    "    if isinstance(module, nn.BatchNorm1d):\n",
    "        print(f\"Training mode: {module.training}\")"
   ]
  },
  {
   "cell_type": "code",
   "execution_count": 221,
   "id": "e2ac02fa-e1f8-4e6e-93c5-e4f019654f75",
   "metadata": {
    "scrolled": true
   },
   "outputs": [
    {
     "name": "stdout",
     "output_type": "stream",
     "text": [
      "cpu\n"
     ]
    },
    {
     "data": {
      "image/png": "[encoded data removed]",
      "text/plain": [
       "<Figure size 640x480 with 1 Axes>"
      ]
     },
     "metadata": {},
     "output_type": "display_data"
    }
   ],
   "source": [
    "model.to(torch.device('cpu'))\n",
    "print(next(model.parameters()).device)\n",
    "test_history=[]\n",
    "for i in range(50):\n",
    "    # print(\"=====================\")\n",
    "    test_history.append(test(model,1000))\n",
    "plt.bar(range(len(test_history)),test_history)\n",
    "plt.show()"
   ]
  },
  {
   "cell_type": "code",
   "execution_count": 142,
   "id": "d735cc05-5f58-463c-a703-4a08260019dc",
   "metadata": {},
   "outputs": [
    {
     "data": {
      "text/plain": [
       "ValuesView(├──CartPole: [ v0, v1 ]\n",
       "├──MountainCar: [ v0 ]\n",
       "├──MountainCarContinuous: [ v0 ]\n",
       "├──Pendulum: [ v1 ]\n",
       "├──Acrobot: [ v1 ]\n",
       "├──LunarLander: [ v2 ]\n",
       "├──LunarLanderContinuous: [ v2 ]\n",
       "├──BipedalWalker: [ v3 ]\n",
       "├──BipedalWalkerHardcore: [ v3 ]\n",
       "├──CarRacing: [ v1 ]\n",
       "├──Blackjack: [ v1 ]\n",
       "├──FrozenLake: [ v1 ]\n",
       "├──FrozenLake8x8: [ v1 ]\n",
       "├──CliffWalking: [ v0 ]\n",
       "├──Taxi: [ v3 ]\n",
       "├──Reacher: [ v2 ]\n",
       "├──Pusher: [ v2 ]\n",
       "├──InvertedPendulum: [ v2 ]\n",
       "├──InvertedDoublePendulum: [ v2 ]\n",
       "├──HalfCheetah: [ v2, v3 ]\n",
       "├──Hopper: [ v2, v3 ]\n",
       "├──Swimmer: [ v2, v3 ]\n",
       "├──Walker2d: [ v2, v3 ]\n",
       "├──Ant: [ v2, v3 ]\n",
       "├──Humanoid: [ v2, v3 ]\n",
       "├──HumanoidStandup: [ v2 ]\n",
       "├──antmaze-umaze: [ v0, v1, v2 ]\n",
       "├──antmaze-umaze-diverse: [ v0, v1, v2 ]\n",
       "├──antmaze-medium-play: [ v0, v1, v2 ]\n",
       "├──antmaze-medium-diverse: [ v0, v1, v2 ]\n",
       "├──antmaze-large-diverse: [ v0, v1, v2 ]\n",
       "├──antmaze-large-play: [ v0, v1, v2 ]\n",
       "├──antmaze-eval-umaze: [ v0 ]\n",
       "├──antmaze-eval-umaze-diverse: [ v0 ]\n",
       "├──antmaze-eval-medium-play: [ v0 ]\n",
       "├──antmaze-eval-medium-diverse: [ v0 ]\n",
       "├──antmaze-eval-large-diverse: [ v0 ]\n",
       "├──antmaze-eval-large-play: [ v0 ]\n",
       "├──mjrl_point_mass: [ v0 ]\n",
       "├──mjrl_swimmer: [ v0 ]\n",
       "├──mjrl_reacher_7dof: [ v0 ]\n",
       "├──mjrl_peg_insertion: [ v0 ]\n",
       "├──hammer-human: [ v1, v0 ]\n",
       "├──hammer-human-longhorizon: [ v1, v0 ]\n",
       "├──hammer-expert: [ v1, v0 ]\n",
       "├──hammer-cloned: [ v1, v0 ]\n",
       "├──pen-human: [ v1, v0 ]\n",
       "├──pen-human-longhorizon: [ v1, v0 ]\n",
       "├──pen-expert: [ v1, v0 ]\n",
       "├──pen-cloned: [ v1, v0 ]\n",
       "├──relocate-human: [ v1, v0 ]\n",
       "├──relocate-human-longhorizon: [ v1, v0 ]\n",
       "├──relocate-expert: [ v1, v0 ]\n",
       "├──relocate-cloned: [ v1, v0 ]\n",
       "├──door-human: [ v1, v0 ]\n",
       "├──door-human-longhorizon: [ v1, v0 ]\n",
       "├──door-expert: [ v1, v0 ]\n",
       "├──door-cloned: [ v1, v0 ]\n",
       "├──door: [ v0 ]\n",
       "├──hammer: [ v0 ]\n",
       "├──pen: [ v0 ]\n",
       "├──relocate: [ v0 ]\n",
       "├──maze2d-open: [ v0 ]\n",
       "├──maze2d-umaze: [ v0, v1 ]\n",
       "├──maze2d-medium: [ v0, v1 ]\n",
       "├──maze2d-large: [ v0, v1 ]\n",
       "├──maze2d-eval-umaze: [ v1 ]\n",
       "├──maze2d-eval-medium: [ v1 ]\n",
       "├──maze2d-eval-large: [ v1 ]\n",
       "├──maze2d-open-dense: [ v0 ]\n",
       "├──maze2d-umaze-dense: [ v0, v1 ]\n",
       "├──maze2d-medium-dense: [ v0, v1 ]\n",
       "├──maze2d-large-dense: [ v0, v1 ]\n",
       "├──maze2d-eval-umaze-dense: [ v1 ]\n",
       "├──maze2d-eval-medium-dense: [ v1 ]\n",
       "├──maze2d-eval-large-dense: [ v1 ]\n",
       "├──minigrid-fourrooms: [ v0 ]\n",
       "├──minigrid-fourrooms-random: [ v0 ]\n",
       "├──hopper-random: [ v1, v2, v0 ]\n",
       "├──hopper-medium: [ v1, v2, v0 ]\n",
       "├──hopper-expert: [ v1, v2, v0 ]\n",
       "├──hopper-medium-expert: [ v1, v2, v0 ]\n",
       "├──hopper-medium-replay: [ v1, v2, v0 ]\n",
       "├──hopper-full-replay: [ v1, v2 ]\n",
       "├──halfcheetah-random: [ v1, v2, v0 ]\n",
       "├──halfcheetah-medium: [ v1, v2, v0 ]\n",
       "├──halfcheetah-expert: [ v1, v2, v0 ]\n",
       "├──halfcheetah-medium-expert: [ v1, v2, v0 ]\n",
       "├──halfcheetah-medium-replay: [ v1, v2, v0 ]\n",
       "├──halfcheetah-full-replay: [ v1, v2 ]\n",
       "├──ant-random: [ v1, v2, v0 ]\n",
       "├──ant-medium: [ v1, v2, v0 ]\n",
       "├──ant-expert: [ v1, v2, v0 ]\n",
       "├──ant-medium-expert: [ v1, v2, v0 ]\n",
       "├──ant-medium-replay: [ v1, v2, v0 ]\n",
       "├──ant-full-replay: [ v1, v2 ]\n",
       "├──walker2d-random: [ v1, v2, v0 ]\n",
       "├──walker2d-medium: [ v1, v2, v0 ]\n",
       "├──walker2d-expert: [ v1, v2, v0 ]\n",
       "├──walker2d-medium-expert: [ v1, v2, v0 ]\n",
       "├──walker2d-medium-replay: [ v1, v2, v0 ]\n",
       "├──walker2d-full-replay: [ v1, v2 ]\n",
       "├──ant-random-expert: [ v0 ]\n",
       "├──kitchen_relax: [ v1 ]\n",
       "├──kitchen-complete: [ v0 ]\n",
       "├──kitchen-partial: [ v0 ]\n",
       "├──kitchen-mixed: [ v0 ]\n",
       "├──HumanoidDeepMimicBackflipBulletEnv: [ v1 ]\n",
       "├──HumanoidDeepMimicWalkBulletEnv: [ v1 ]\n",
       "├──CartPoleBulletEnv: [ v1 ]\n",
       "├──CartPoleContinuousBulletEnv: [ v0 ]\n",
       "├──MinitaurBulletEnv: [ v0 ]\n",
       "├──MinitaurBulletDuckEnv: [ v0 ]\n",
       "├──MinitaurExtendedEnv: [ v0 ]\n",
       "├──MinitaurReactiveEnv: [ v0 ]\n",
       "├──MinitaurBallGymEnv: [ v0 ]\n",
       "├──MinitaurTrottingEnv: [ v0 ]\n",
       "├──MinitaurStandGymEnv: [ v0 ]\n",
       "├──MinitaurAlternatingLegsEnv: [ v0 ]\n",
       "├──MinitaurFourLegStandEnv: [ v0 ]\n",
       "├──RacecarBulletEnv: [ v0 ]\n",
       "├──RacecarZedBulletEnv: [ v0 ]\n",
       "├──KukaBulletEnv: [ v0 ]\n",
       "├──KukaCamBulletEnv: [ v0 ]\n",
       "├──KukaDiverseObjectGrasping: [ v0 ]\n",
       "├──InvertedPendulumBulletEnv: [ v0 ]\n",
       "├──InvertedDoublePendulumBulletEnv: [ v0 ]\n",
       "├──InvertedPendulumSwingupBulletEnv: [ v0 ]\n",
       "├──ReacherBulletEnv: [ v0 ]\n",
       "├──PusherBulletEnv: [ v0 ]\n",
       "├──ThrowerBulletEnv: [ v0 ]\n",
       "├──Walker2DBulletEnv: [ v0 ]\n",
       "├──HalfCheetahBulletEnv: [ v0 ]\n",
       "├──AntBulletEnv: [ v0 ]\n",
       "├──HopperBulletEnv: [ v0 ]\n",
       "├──HumanoidBulletEnv: [ v0 ]\n",
       "├──HumanoidFlagrunBulletEnv: [ v0 ]\n",
       "├──HumanoidFlagrunHarderBulletEnv: [ v0 ]\n",
       "├──bullet-hopper: [ v0 ]\n",
       "├──bullet-hopper-random: [ v0 ]\n",
       "├──bullet-hopper-medium: [ v0 ]\n",
       "├──bullet-hopper-expert: [ v0 ]\n",
       "├──bullet-hopper-medium-expert: [ v0 ]\n",
       "├──bullet-hopper-medium-replay: [ v0 ]\n",
       "├──bullet-halfcheetah: [ v0 ]\n",
       "├──bullet-halfcheetah-random: [ v0 ]\n",
       "├──bullet-halfcheetah-medium: [ v0 ]\n",
       "├──bullet-halfcheetah-expert: [ v0 ]\n",
       "├──bullet-halfcheetah-medium-expert: [ v0 ]\n",
       "├──bullet-halfcheetah-medium-replay: [ v0 ]\n",
       "├──bullet-ant: [ v0 ]\n",
       "├──bullet-ant-random: [ v0 ]\n",
       "├──bullet-ant-medium: [ v0 ]\n",
       "├──bullet-ant-expert: [ v0 ]\n",
       "├──bullet-ant-medium-expert: [ v0 ]\n",
       "├──bullet-ant-medium-replay: [ v0 ]\n",
       "├──bullet-walker2d: [ v0 ]\n",
       "├──bullet-walker2d-random: [ v0 ]\n",
       "├──bullet-walker2d-medium: [ v0 ]\n",
       "├──bullet-walker2d-expert: [ v0 ]\n",
       "├──bullet-walker2d-medium-expert: [ v0 ]\n",
       "├──bullet-walker2d-medium-replay: [ v0 ]\n",
       "├──bullet-maze2d-open: [ v0 ]\n",
       "├──bullet-maze2d-umaze: [ v0 ]\n",
       "├──bullet-maze2d-medium: [ v0 ]\n",
       "└──bullet-maze2d-large: [ v0 ]\n",
       ")"
      ]
     },
     "execution_count": 142,
     "metadata": {},
     "output_type": "execute_result"
    }
   ],
   "source": [
    "gym.envs.registry.all()"
   ]
  },
  {
   "cell_type": "code",
   "execution_count": 140,
   "id": "89b4a003-9b32-445f-9873-2092fa690428",
   "metadata": {},
   "outputs": [
    {
     "data": {
      "text/plain": [
       "3479.219"
      ]
     },
     "execution_count": 140,
     "metadata": {},
     "output_type": "execute_result"
    }
   ],
   "source": [
    "dataset[\"rewards\"][:1000].sum()"
   ]
  },
  {
   "cell_type": "code",
   "execution_count": 2,
   "id": "3d6da081-a3ae-4c66-a13b-e8c7cb495616",
   "metadata": {},
   "outputs": [
    {
     "ename": "NameError",
     "evalue": "name 'nn' is not defined",
     "output_type": "error",
     "traceback": [
      "\u001b[0;31m---------------------------------------------------------------------------\u001b[0m",
      "\u001b[0;31mNameError\u001b[0m                                 Traceback (most recent call last)",
      "Cell \u001b[0;32mIn[2], line 1\u001b[0m\n\u001b[0;32m----> 1\u001b[0m \u001b[38;5;28;01mclass\u001b[39;00m \u001b[38;5;21;01mD_Network\u001b[39;00m(\u001b[43mnn\u001b[49m\u001b[38;5;241m.\u001b[39mModule):\n\u001b[1;32m      2\u001b[0m     \u001b[38;5;28;01mdef\u001b[39;00m \u001b[38;5;21m__init__\u001b[39m(\u001b[38;5;28mself\u001b[39m,input_size):\n\u001b[1;32m      3\u001b[0m         \u001b[38;5;28msuper\u001b[39m()\u001b[38;5;241m.\u001b[39m\u001b[38;5;21m__init__\u001b[39m()\n",
      "\u001b[0;31mNameError\u001b[0m: name 'nn' is not defined"
     ]
    }
   ],
   "source": [
    "class D_Network(nn.Module):\n",
    "    def __init__(self,input_size):\n",
    "        super().__init__()\n",
    "        self.network = nn.Sequential(nn.Linear(input_size,64),\n",
    "                                     nn.Tanh(),\n",
    "                                     nn.Linear(64,16),\n",
    "                                     nn.Tanh(),\n",
    "                                     nn.Linear(16,1),\n",
    "                                     nn.Sigmoid())\n",
    "    def forward(self,state,action):\n",
    "        state = torch.from_numpy(state)\n",
    "        action = torch.from_numpy(action)\n",
    "        x = torch.cat((state, action), dim=-1)\n",
    "        self.output = self.network(x)\n",
    "\n",
    "        return self.output\n",
    "    \n",
    "        \n",
    "\n"
   ]
  },
  {
   "cell_type": "code",
   "execution_count": 96,
   "id": "36e3831d-5805-446e-ae8a-5274bef8a7b3",
   "metadata": {},
   "outputs": [],
   "source": [
    "class PM_Network(nn.Module):\n",
    "    def __init__(self,input_size,output_size):\n",
    "        super().__init__()\n",
    "        self.network_m = nn.Sequential(nn.Linear(input_size,64),\n",
    "                                     nn.Tanh(),\n",
    "                                     nn.Linear(64,16),\n",
    "                                     nn.Tanh(),\n",
    "                                     nn.Linear(16,3))                                     \n",
    "        self.network_s = nn.Sequential(nn.Linear(input_size,64),\n",
    "                                     nn.Tanh(),\n",
    "                                     nn.Linear(64,16),\n",
    "                                     nn.Tanh(),\n",
    "                                     nn.Linear(16,3))      \n",
    "    def forward(self,state):\n",
    "        self.mean = self.network_m(state)\n",
    "        self.std = torch.exp(self.network_s(state))\n",
    "        normal_dist = torch.distributions.Normal(self.mean,self.std)\n",
    "        raw_action = normal_dist.rsample()  # Use reparameterization trick\n",
    "        \n",
    "        # Map action to [-1, 1] using tanh\n",
    "        action = torch.clamp(raw_action,min=-1,max=1)\n",
    "        print(self.mean,self.std)\n",
    "        # Compute log probability of the sampled action\n",
    "        log_prob = normal_dist.log_prob(raw_action) \n",
    "        # print(log_prob)\n",
    "        log_prob = log_prob.sum(dim=-1, keepdim=True)  # Sum over action dimensions\n",
    "        print(action)\n",
    "        \n",
    "        return action, log_prob\n",
    "        \n",
    "                             \n",
    "        # return self.output\n",
    "                             \n",
    "                             \n",
    "    # def sample_action(self,state):\n",
    "    #      # Sample from Gaussian distribution\n",
    "    #     self.forward(state)\n",
    "        \n",
    "    #     normal_dist = torch.distributions.Normal(self.mean,self.std)\n",
    "    #     raw_action = normal_dist.rsample()  # Use reparameterization trick\n",
    "        \n",
    "    #     # Map action to [-1, 1] using tanh\n",
    "    #     action = torch.clamp(raw_action,min=-1,max=1)\n",
    "    #     print(self.mean,self.std)\n",
    "    #     # Compute log probability of the sampled action\n",
    "    #     log_prob = normal_dist.log_prob(raw_action) \n",
    "    #     # print(log_prob)\n",
    "    #     log_prob = log_prob.sum(dim=-1, keepdim=True)  # Sum over action dimensions\n",
    "    #     print(action)\n",
    "        \n",
    "    #     return action, log_prob\n",
    "        \n",
    "            \n",
    "        \n",
    "                    \n",
    "           "
   ]
  },
  {
   "cell_type": "code",
   "execution_count": 97,
   "id": "39f677c6-f976-4507-b9ad-f7dd9cf3b33d",
   "metadata": {},
   "outputs": [],
   "source": [
    "Policy = P_Network(11,3)"
   ]
  },
  {
   "cell_type": "code",
   "execution_count": 98,
   "id": "993922b8-7156-4fac-a255-5ec9808b40da",
   "metadata": {},
   "outputs": [],
   "source": [
    "Discriminator = D_Network(14)"
   ]
  },
  {
   "cell_type": "code",
   "execution_count": 99,
   "id": "775640fe-422c-4def-9219-cefa3b1d0185",
   "metadata": {},
   "outputs": [],
   "source": [
    "state = torch.from_numpy(env.reset())"
   ]
  },
  {
   "cell_type": "code",
   "execution_count": 101,
   "id": "4ef45e60-97b5-4aff-bbcf-d2aa1f29112a",
   "metadata": {},
   "outputs": [
    {
     "name": "stdout",
     "output_type": "stream",
     "text": [
      "tensor([ 0.0481,  0.1880, -0.1466], grad_fn=<ViewBackward0>) tensor([1.1044, 1.1057, 0.8646], grad_fn=<ExpBackward0>)\n",
      "tensor([-0.0656,  0.0516,  1.0000], grad_fn=<ClampBackward1>)\n"
     ]
    },
    {
     "data": {
      "text/plain": [
       "(tensor([-0.0656,  0.0516,  1.0000], grad_fn=<ClampBackward1>),\n",
       " tensor([-3.7471], grad_fn=<SumBackward1>))"
      ]
     },
     "execution_count": 101,
     "metadata": {},
     "output_type": "execute_result"
    }
   ],
   "source": [
    "Policy(state.float())"
   ]
  },
  {
   "cell_type": "code",
   "execution_count": 94,
   "id": "40d1138f-bfc7-44ca-9bb2-5470429b1053",
   "metadata": {},
   "outputs": [],
   "source": [
    "import random"
   ]
  },
  {
   "cell_type": "code",
   "execution_count": 104,
   "id": "ce76a36b-94b8-467f-bc69-d7fbcd1089ea",
   "metadata": {},
   "outputs": [
    {
     "ename": "SyntaxError",
     "evalue": "incomplete input (2281725345.py, line 28)",
     "output_type": "error",
     "traceback": [
      "\u001b[0;36m  Cell \u001b[0;32mIn[104], line 28\u001b[0;36m\u001b[0m\n\u001b[0;31m    \u001b[0m\n\u001b[0m    ^\u001b[0m\n\u001b[0;31mSyntaxError\u001b[0m\u001b[0;31m:\u001b[0m incomplete input\n"
     ]
    }
   ],
   "source": [
    "\n",
    "def train(dataset,epochs,P_network):\n",
    "    state = torch.from_numpy(env.reset())\n",
    "    expert_trajectories =[]\n",
    "    for t in range(traj_no):\n",
    "        idx = random.randint(0,len(dataset)-max_steps)\n",
    "        expert_trajectories.append(dataset[idx:idx+max_steps])\n",
    "\n",
    "    for epoch in range(epochs):\n",
    "        \n",
    "        for path in range(traj_no):\n",
    "\n",
    "            aD_loss = 0\n",
    "            eD_loss = 0\n",
    "            state = torch.from_numpy(env.reset())\n",
    "            for step in range(max_steps):\n",
    "                action, log_prob = P_network(state)\n",
    "                next_state,reward,done,info = env.step(numpy.array(action))\n",
    "                \n",
    "                exp_state = expert_trajectories[path][\"observations\"][step]\n",
    "                exp_action = expert_trajectories[path][\"actions\"][step]\n",
    "                \n",
    "                aD_loss += torch.log(D_network(state,action))\n",
    "                eD_loss += torch.log(1- D_network(exp_state,exp_action))\n",
    "\n",
    "                if done:\n",
    "                    eD_loss /= step\n",
    "                    aD_loss /= step\n",
    "                    \n",
    "\n",
    "                                                  \n",
    "    \n",
    "                \n",
    "                \n",
    "                \n",
    "    \n",
    "    \n",
    "    "
   ]
  },
  {
   "cell_type": "code",
   "execution_count": 77,
   "id": "1f8c2fd3-2d8a-4d99-a111-feb47660658b",
   "metadata": {},
   "outputs": [
    {
     "data": {
      "text/plain": [
       "{'actions': array([[ 0.8259195 , -0.43341178,  0.8120992 ],\n",
       "        [ 0.8244549 , -0.7164865 ,  0.07432321],\n",
       "        [ 0.8499072 , -0.20028582,  0.13544567],\n",
       "        ...,\n",
       "        [ 0.308399  , -0.28698418,  0.7205197 ],\n",
       "        [ 0.30791777,  0.00762309, -0.5651019 ],\n",
       "        [-0.32234538,  0.23280619, -0.63004637]], dtype=float32),\n",
       " 'observations': array([[ 1.2508533e+00,  1.6305586e-03, -7.9514465e-04, ...,\n",
       "          1.4964999e-03,  1.6224863e-03, -4.4636223e-03],\n",
       "        [ 1.2504431e+00,  3.1245863e-03,  2.3545863e-03, ...,\n",
       "          3.9008829e-01, -6.6784775e-01,  1.1991799e+00],\n",
       "        [ 1.2493614e+00,  9.8507630e-04,  4.5010685e-03, ...,\n",
       "          1.6879366e-01, -1.6157442e+00,  1.3486822e+00],\n",
       "        ...,\n",
       "        [ 1.6186366e+00, -9.1755435e-02, -4.5169634e-01, ...,\n",
       "         -2.7762216e-01,  1.4225568e+00,  1.0000000e+01],\n",
       "        [ 1.6156299e+00, -9.0178706e-02, -4.5196101e-01, ...,\n",
       "          2.0981342e-01,  1.2374721e+00,  6.4053802e+00],\n",
       "        [ 1.6133553e+00, -8.5746430e-02, -4.4849414e-01, ...,\n",
       "          6.5650731e-01,  1.3415334e+00,  1.4550933e+00]], dtype=float32),\n",
       " 'rewards': array([1.0022607, 0.9360265, 0.875334 , ..., 4.0087476, 3.9977727,\n",
       "        4.000675 ], dtype=float32),\n",
       " 'terminals': array([False, False, False, ..., False, False, False]),\n",
       " 'timeouts': array([False, False, False, ..., False, False, False])}"
      ]
     },
     "execution_count": 77,
     "metadata": {},
     "output_type": "execute_result"
    }
   ],
   "source": [
    "dataset"
   ]
  },
  {
   "cell_type": "code",
   "execution_count": null,
   "id": "1cb3a1c0-93db-4653-9338-cf2c6598dc2a",
   "metadata": {},
   "outputs": [],
   "source": []
  }
 ],
 "metadata": {
  "kernelspec": {
   "display_name": "IRL_AGV",
   "language": "python",
   "name": "irl_agv"
  },
  "language_info": {
   "codemirror_mode": {
    "name": "ipython",
    "version": 3
   },
   "file_extension": ".py",
   "mimetype": "text/x-python",
   "name": "python",
   "nbconvert_exporter": "python",
   "pygments_lexer": "ipython3",
   "version": "3.10.16"
  }
 },
 "nbformat": 4,
 "nbformat_minor": 5
}
