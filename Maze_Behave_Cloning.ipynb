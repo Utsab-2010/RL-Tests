{
 "cells": [
  {
   "cell_type": "code",
   "execution_count": 2,
   "id": "f04b01bd-1af1-49bf-be3c-176da86a9405",
   "metadata": {},
   "outputs": [],
   "source": [
    "import gym\n",
    "import d4rl # Import required to register environments\n",
    "# import time \n",
    "import torch\n",
    "import torch.nn as nn\n",
    "from torch.utils.data import Dataset\n",
    "from torch.utils.data.dataloader import DataLoader\n",
    "from torch.utils.data import random_split\n",
    "import torch.nn.functional as F\n",
    "import matplotlib.pyplot as plt\n",
    "\n",
    "%matplotlib inline"
   ]
  },
  {
   "cell_type": "code",
   "execution_count": 3,
   "id": "9be9818b-d715-4821-b464-62d3a79c81b3",
   "metadata": {},
   "outputs": [],
   "source": [
    "class TensorPairDataset(Dataset):\n",
    "    def __init__(self, tensor1, tensor2):\n",
    "        assert len(tensor1) == len(tensor2), \"Tensors must have the same length\"\n",
    "        self.tensor1 = tensor1\n",
    "        self.tensor2 = tensor2\n",
    "\n",
    "    def __len__(self):\n",
    "        return len(self.tensor1)\n",
    "\n",
    "    def __getitem__(self, idx):\n",
    "        return self.tensor1[idx], self.tensor2[idx]"
   ]
  },
  {
   "cell_type": "code",
   "execution_count": 43,
   "id": "f2580782-3981-4bcb-9e48-f1f4177bfbaa",
   "metadata": {},
   "outputs": [
    {
     "name": "stderr",
     "output_type": "stream",
     "text": [
      "/home/utsab/miniconda3/envs/IRL_AGV/lib/python3.10/site-packages/gym/envs/registration.py:505: UserWarning: \u001b[33mWARN: The environment hopper-expert-v0 is out of date. You should consider upgrading to version `v2` with the environment ID `hopper-expert-v2`.\u001b[0m\n",
      "  logger.warn(\n"
     ]
    },
    {
     "name": "stdout",
     "output_type": "stream",
     "text": [
      "Downloading dataset: http://rail.eecs.berkeley.edu/datasets/offline_rl/gym_mujoco/hopper_expert.hdf5 to /home/utsab/.d4rl/datasets/hopper_expert.hdf5\n"
     ]
    },
    {
     "name": "stderr",
     "output_type": "stream",
     "text": [
      "load datafile: 100%|██████████████████████████████| 5/5 [00:00<00:00, 21.02it/s]\n"
     ]
    }
   ],
   "source": [
    "env = gym.make(\"hopper-expert-v0\")\n",
    "dataset = env.get_dataset()"
   ]
  },
  {
   "cell_type": "code",
   "execution_count": 2,
   "id": "de952d19-fb43-4aaa-bac4-6021ff32224f",
   "metadata": {},
   "outputs": [
    {
     "ename": "NameError",
     "evalue": "name 'dataset' is not defined",
     "output_type": "error",
     "traceback": [
      "\u001b[0;31m---------------------------------------------------------------------------\u001b[0m",
      "\u001b[0;31mNameError\u001b[0m                                 Traceback (most recent call last)",
      "Cell \u001b[0;32mIn[2], line 1\u001b[0m\n\u001b[0;32m----> 1\u001b[0m \u001b[38;5;28mlen\u001b[39m(\u001b[43mdataset\u001b[49m[\u001b[38;5;124m'\u001b[39m\u001b[38;5;124mobservations\u001b[39m\u001b[38;5;124m'\u001b[39m])\n",
      "\u001b[0;31mNameError\u001b[0m: name 'dataset' is not defined"
     ]
    }
   ],
   "source": [
    "len(dataset['observations'])"
   ]
  },
  {
   "cell_type": "code",
   "execution_count": 1,
   "id": "f839e34d-f8f9-41e8-87ec-a51311870cb6",
   "metadata": {},
   "outputs": [
    {
     "ename": "NameError",
     "evalue": "name 'dataset' is not defined",
     "output_type": "error",
     "traceback": [
      "\u001b[0;31m---------------------------------------------------------------------------\u001b[0m",
      "\u001b[0;31mNameError\u001b[0m                                 Traceback (most recent call last)",
      "Cell \u001b[0;32mIn[1], line 1\u001b[0m\n\u001b[0;32m----> 1\u001b[0m \u001b[43mdataset\u001b[49m[\u001b[38;5;124m'\u001b[39m\u001b[38;5;124mrewards\u001b[39m\u001b[38;5;124m'\u001b[39m]\u001b[38;5;241m.\u001b[39msum()\n",
      "\u001b[0;31mNameError\u001b[0m: name 'dataset' is not defined"
     ]
    }
   ],
   "source": [
    "dataset['rewards'].sum()"
   ]
  },
  {
   "cell_type": "code",
   "execution_count": 45,
   "id": "b030a412-c579-4b6f-adef-747325d2b55d",
   "metadata": {},
   "outputs": [],
   "source": [
    "observations = torch.tensor(dataset['observations'])[:1000000]\n",
    "mean = observations.mean(dim=0)\n",
    "std = observations.std(dim=0)\n",
    "observations = (observations - mean)/std\n",
    "actions = torch.tensor(dataset['actions'])[:1000000]\n",
    "data = TensorPairDataset(observations,actions)"
   ]
  },
  {
   "cell_type": "code",
   "execution_count": 46,
   "id": "19d5d294-d33b-4716-963b-0ad7923b273a",
   "metadata": {},
   "outputs": [
    {
     "data": {
      "text/plain": [
       "tensor([[-0.7753,  0.7459,  2.2722,  ...,  0.0356,  0.0036, -0.0103],\n",
       "        [-0.7777,  0.7685,  2.2912,  ...,  0.2677, -0.2552,  0.1919],\n",
       "        [-0.7840,  0.7361,  2.3042,  ...,  0.1355, -0.6216,  0.2170],\n",
       "        ...,\n",
       "        [ 1.3769, -0.6681, -0.4511,  ..., -0.1312,  0.5528,  1.6705],\n",
       "        [ 1.3593, -0.6443, -0.4527,  ...,  0.1600,  0.4813,  1.0665],\n",
       "        [ 1.3460, -0.5772, -0.4318,  ...,  0.4269,  0.5215,  0.2349]])"
      ]
     },
     "execution_count": 46,
     "metadata": {},
     "output_type": "execute_result"
    }
   ],
   "source": [
    "observations"
   ]
  },
  {
   "cell_type": "code",
   "execution_count": 47,
   "id": "909451a1-8ba8-4d6c-97d9-14f17828b64a",
   "metadata": {},
   "outputs": [
    {
     "data": {
      "text/plain": [
       "(-inf, inf)"
      ]
     },
     "execution_count": 47,
     "metadata": {},
     "output_type": "execute_result"
    }
   ],
   "source": [
    "env.reward_range"
   ]
  },
  {
   "cell_type": "code",
   "execution_count": 48,
   "id": "ac57a681-8024-45e8-96ef-c44c76661b7e",
   "metadata": {},
   "outputs": [
    {
     "data": {
      "text/plain": [
       "array([ 1.25029785e+00,  2.07560937e-03,  4.90098125e-03, -3.91986586e-03,\n",
       "        3.24570755e-05, -2.19936342e-03,  2.01673521e-03,  4.24321134e-03,\n",
       "        3.26184557e-03, -5.38502643e-04,  1.25899667e-03])"
      ]
     },
     "execution_count": 48,
     "metadata": {},
     "output_type": "execute_result"
    }
   ],
   "source": [
    "env.reset()"
   ]
  },
  {
   "cell_type": "code",
   "execution_count": 49,
   "id": "e681e375-f509-4639-92d2-58cb2d93fd01",
   "metadata": {},
   "outputs": [],
   "source": [
    "train_ds, test_ds = random_split(data,[900000,100000])\n"
   ]
  },
  {
   "cell_type": "code",
   "execution_count": 50,
   "id": "c170c608-cef5-4638-9f37-e6898cf3d04b",
   "metadata": {},
   "outputs": [],
   "source": [
    "batch_size=256"
   ]
  },
  {
   "cell_type": "code",
   "execution_count": 51,
   "id": "c9a265a4-96e2-4e86-8d19-a1af9d66ef6d",
   "metadata": {},
   "outputs": [],
   "source": [
    "train_loader = DataLoader(train_ds, batch_size, shuffle=True, num_workers=4, pin_memory=True)\n",
    "test_loader = DataLoader(test_ds, 2*batch_size, num_workers=4, pin_memory=True)"
   ]
  },
  {
   "cell_type": "code",
   "execution_count": 52,
   "id": "c23c36fd-20fd-4451-8810-89ff7321716d",
   "metadata": {},
   "outputs": [],
   "source": [
    "def accuracy(loss):\n",
    "    return torch.exp(-loss)"
   ]
  },
  {
   "cell_type": "code",
   "execution_count": 53,
   "id": "0ec51bb6-f0f3-4e7d-aa90-47135b9dd877",
   "metadata": {},
   "outputs": [],
   "source": [
    "def normalize(input):\n",
    "    mean = input.mean(dim=0)\n",
    "    std = input.std(dim=0)\n",
    "    input = (input - mean)/std\n",
    "    return input\n",
    "\n",
    "class Normalize(nn.Module):\n",
    "    def __init__(self):\n",
    "        super().__init__()\n",
    "\n",
    "    def forward(self, input):\n",
    "        mean = input.mean(dim=0)\n",
    "        std = input.std(dim=0)\n",
    "        input = (input - mean)/std\n",
    "        return input        "
   ]
  },
  {
   "cell_type": "code",
   "execution_count": 54,
   "id": "c4a94f67-51d8-4f8d-a9b9-41fa92229b35",
   "metadata": {},
   "outputs": [],
   "source": [
    "class B_Network(nn.Module):\n",
    "    def __init__(self,input_size,output_size):\n",
    "        super().__init__()\n",
    "        self.network = nn.Sequential(nn.Linear(input_size,64),\n",
    "                                     nn.ReLU(),\n",
    "                                     nn.BatchNorm1d(64),\n",
    "                                     nn.Linear(64,24),\n",
    "                                     nn.ReLU(),\n",
    "                                     nn.BatchNorm1d(24),\n",
    "                                     nn.Linear(24,output_size),\n",
    "                                     nn.Tanh())\n",
    "    def forward(self,state):\n",
    "            return self.network(state)\n",
    "    \n",
    "    def training_step(self, batch):\n",
    "        state, action = batch \n",
    "        out = self(state)                  # Generate predictions\n",
    "        loss = F.mse_loss(out, action) # Calculate loss\n",
    "        return loss\n",
    "    \n",
    "    def validation_step(self, batch):\n",
    "        state, action = batch \n",
    "        out = self(state)                    # Generate predictions\n",
    "        loss = F.mse_loss(out, action)   # Calculate loss\n",
    "        acc = accuracy(loss)           # Calculate accuracy\n",
    "        return {'val_loss': loss, 'val_acc': acc}\n",
    "        \n",
    "    def validation_epoch_end(self, outputs):\n",
    "        batch_losses = [x['val_loss'] for x in outputs]\n",
    "        epoch_loss = torch.stack(batch_losses).mean()   # Combine losses\n",
    "        batch_accs = [x['val_acc'] for x in outputs]\n",
    "        epoch_acc = torch.stack(batch_accs).mean()      # Combine accuracies\n",
    "        return {'val_loss': epoch_loss.item(), 'val_acc': epoch_acc.item()}\n",
    "    \n",
    "    def epoch_end(self, epoch, result):\n",
    "        print(\"Epoch [{}], val_loss: {:.4f}, val_acc: {:.4f}\".format(epoch, result['val_loss'], result['val_acc']))"
   ]
  },
  {
   "cell_type": "code",
   "execution_count": 55,
   "id": "9e5e1f95-dce3-40ae-8b30-476673b1fc8a",
   "metadata": {},
   "outputs": [],
   "source": [
    "def get_default_device():\n",
    "    \"\"\"Pick GPU if available, else CPU\"\"\"\n",
    "    if torch.cuda.is_available():\n",
    "        return torch.device('cuda')\n",
    "    else:\n",
    "        return torch.device('cpu')"
   ]
  },
  {
   "cell_type": "code",
   "execution_count": 56,
   "id": "57c53378-6d10-4f97-9846-c292ce505817",
   "metadata": {},
   "outputs": [
    {
     "data": {
      "text/plain": [
       "device(type='cuda')"
      ]
     },
     "execution_count": 56,
     "metadata": {},
     "output_type": "execute_result"
    }
   ],
   "source": [
    "device = get_default_device()\n",
    "device"
   ]
  },
  {
   "cell_type": "code",
   "execution_count": 57,
   "id": "f6e7e454-6965-4ebb-b298-08ad0c22a489",
   "metadata": {},
   "outputs": [],
   "source": [
    "def to_device(data, device):\n",
    "    \"\"\"Move tensor(s) to chosen device\"\"\"\n",
    "    if isinstance(data, (list,tuple)):\n",
    "        return [to_device(x, device) for x in data]\n",
    "    return data.to(device, non_blocking=True)"
   ]
  },
  {
   "cell_type": "code",
   "execution_count": 58,
   "id": "de670249-1663-4fc6-8aa1-e6b21e3a4275",
   "metadata": {},
   "outputs": [],
   "source": [
    "class DeviceDataLoader():\n",
    "    \"\"\"Wrap a dataloader to move data to a device\"\"\"\n",
    "    def __init__(self, dl, device):\n",
    "        self.dl = dl\n",
    "        self.device = device\n",
    "        \n",
    "    def __iter__(self):\n",
    "        \"\"\"Yield a batch of data after moving it to device\"\"\"\n",
    "        for b in self.dl: \n",
    "            yield to_device(b, self.device)\n",
    "\n",
    "    def __len__(self):\n",
    "        \"\"\"Number of batches\"\"\"\n",
    "        return len(self.dl)"
   ]
  },
  {
   "cell_type": "code",
   "execution_count": 59,
   "id": "5cbb2d4e-c378-4db5-be87-f2a9f8aa9db8",
   "metadata": {},
   "outputs": [],
   "source": [
    "train_loader = DeviceDataLoader(train_loader, device)\n",
    "test_loader = DeviceDataLoader(test_loader, device)"
   ]
  },
  {
   "cell_type": "code",
   "execution_count": 60,
   "id": "7c07a03c-7357-429d-90b2-4ef40016f1ce",
   "metadata": {},
   "outputs": [
    {
     "data": {
      "text/plain": [
       "3516"
      ]
     },
     "execution_count": 60,
     "metadata": {},
     "output_type": "execute_result"
    }
   ],
   "source": [
    "len(train_loader)"
   ]
  },
  {
   "cell_type": "code",
   "execution_count": 61,
   "id": "da6dd213-ff8c-4804-89af-9b8929e62a71",
   "metadata": {},
   "outputs": [],
   "source": [
    "def evaluate(model, val_loader):\n",
    "    \"\"\"Evaluate the model's performance on the validation set\"\"\"\n",
    "    outputs = [model.validation_step(batch) for batch in val_loader]\n",
    "    return model.validation_epoch_end(outputs)\n",
    "\n",
    "def fit(epochs, max_lr, model, train_loader, val_loader,weight_decay=0,grad_clip=None, opt_func=torch.optim.SGD):\n",
    "    \"\"\"Train the model using gradient descent\"\"\"\n",
    "    \n",
    "    history = []\n",
    "    optimizer = opt_func(model.parameters(), max_lr)\n",
    "    # scheduler = torch.optim.lr_scheduler.ReduceLROnPlateau(optimizer, 'min', patience=5)\n",
    "    sched = torch.optim.lr_scheduler.OneCycleLR(optimizer, max_lr, epochs=epochs, \n",
    "                                                steps_per_epoch=len(train_loader))\n",
    "    for epoch in range(epochs):\n",
    "        # Training Phase \n",
    "        for batch in train_loader:\n",
    "            loss = model.training_step(batch)\n",
    "            loss.backward()\n",
    "            \n",
    "            if grad_clip: \n",
    "                nn.utils.clip_grad_value_(model.parameters(), grad_clip)\n",
    "\n",
    "            optimizer.step()\n",
    "            # sched.step()\n",
    "            optimizer.zero_grad()\n",
    "        # Validation phase\n",
    "        result = evaluate(model, val_loader)\n",
    "        model.epoch_end(epoch, result)\n",
    "        history.append(result)\n",
    "    return history"
   ]
  },
  {
   "cell_type": "code",
   "execution_count": 62,
   "id": "af8101c2-859a-4cd5-9d9e-6c24a054c5db",
   "metadata": {},
   "outputs": [
    {
     "data": {
      "text/plain": [
       "B_Network(\n",
       "  (network): Sequential(\n",
       "    (0): Linear(in_features=11, out_features=64, bias=True)\n",
       "    (1): ReLU()\n",
       "    (2): BatchNorm1d(64, eps=1e-05, momentum=0.1, affine=True, track_running_stats=True)\n",
       "    (3): Linear(in_features=64, out_features=24, bias=True)\n",
       "    (4): ReLU()\n",
       "    (5): BatchNorm1d(24, eps=1e-05, momentum=0.1, affine=True, track_running_stats=True)\n",
       "    (6): Linear(in_features=24, out_features=3, bias=True)\n",
       "    (7): Tanh()\n",
       "  )\n",
       ")"
      ]
     },
     "execution_count": 62,
     "metadata": {},
     "output_type": "execute_result"
    }
   ],
   "source": [
    "# Model (on GPU)\n",
    "model = B_Network(11,3)\n",
    "\n",
    "to_device(model, device)"
   ]
  },
  {
   "cell_type": "code",
   "execution_count": 63,
   "id": "c0d141ec-af86-43cc-8a5b-c31c621eba9a",
   "metadata": {},
   "outputs": [
    {
     "data": {
      "text/plain": [
       "B_Network(\n",
       "  (network): Sequential(\n",
       "    (0): Linear(in_features=11, out_features=64, bias=True)\n",
       "    (1): ReLU()\n",
       "    (2): BatchNorm1d(64, eps=1e-05, momentum=0.1, affine=True, track_running_stats=True)\n",
       "    (3): Linear(in_features=64, out_features=24, bias=True)\n",
       "    (4): ReLU()\n",
       "    (5): BatchNorm1d(24, eps=1e-05, momentum=0.1, affine=True, track_running_stats=True)\n",
       "    (6): Linear(in_features=24, out_features=3, bias=True)\n",
       "    (7): Tanh()\n",
       "  )\n",
       ")"
      ]
     },
     "execution_count": 63,
     "metadata": {},
     "output_type": "execute_result"
    }
   ],
   "source": [
    "to_device(model, device)"
   ]
  },
  {
   "cell_type": "code",
   "execution_count": 64,
   "id": "aa694237-f33e-4a77-b469-aaf2442a0381",
   "metadata": {},
   "outputs": [
    {
     "data": {
      "text/plain": [
       "B_Network(\n",
       "  (network): Sequential(\n",
       "    (0): Linear(in_features=11, out_features=64, bias=True)\n",
       "    (1): ReLU()\n",
       "    (2): BatchNorm1d(64, eps=1e-05, momentum=0.1, affine=True, track_running_stats=True)\n",
       "    (3): Linear(in_features=64, out_features=24, bias=True)\n",
       "    (4): ReLU()\n",
       "    (5): BatchNorm1d(24, eps=1e-05, momentum=0.1, affine=True, track_running_stats=True)\n",
       "    (6): Linear(in_features=24, out_features=3, bias=True)\n",
       "    (7): Tanh()\n",
       "  )\n",
       ")"
      ]
     },
     "execution_count": 64,
     "metadata": {},
     "output_type": "execute_result"
    }
   ],
   "source": [
    "observations\n",
    "model.train()"
   ]
  },
  {
   "cell_type": "code",
   "execution_count": 65,
   "id": "180bd69f-23d8-4b5b-8fcb-8b9973164c52",
   "metadata": {},
   "outputs": [
    {
     "data": {
      "text/plain": [
       "[{'val_loss': 0.6044708490371704, 'val_acc': 0.5465126633644104}]"
      ]
     },
     "execution_count": 65,
     "metadata": {},
     "output_type": "execute_result"
    }
   ],
   "source": [
    "history = [evaluate(model, train_loader)]\n",
    "history"
   ]
  },
  {
   "cell_type": "code",
   "execution_count": 66,
   "id": "a61088a9-2394-4100-add8-feb51dbf629b",
   "metadata": {},
   "outputs": [],
   "source": [
    "grad_clip = 0.01\n",
    "weight_decay = 0.0005\n",
    "max_lr=(batch_size/32.)*0.01\n",
    "epochs=30"
   ]
  },
  {
   "cell_type": "code",
   "execution_count": 67,
   "id": "9c867cc9-371a-413c-9e20-35542ae9463d",
   "metadata": {},
   "outputs": [
    {
     "name": "stdout",
     "output_type": "stream",
     "text": [
      "Epoch [0], val_loss: 0.0964, val_acc: 0.9081\n",
      "Epoch [1], val_loss: 0.0934, val_acc: 0.9108\n",
      "Epoch [2], val_loss: 0.0863, val_acc: 0.9173\n",
      "Epoch [3], val_loss: 0.0846, val_acc: 0.9189\n",
      "Epoch [4], val_loss: 0.0834, val_acc: 0.9200\n",
      "Epoch [5], val_loss: 0.0816, val_acc: 0.9216\n",
      "Epoch [6], val_loss: 0.0812, val_acc: 0.9220\n",
      "Epoch [7], val_loss: 0.0806, val_acc: 0.9226\n",
      "Epoch [8], val_loss: 0.0794, val_acc: 0.9237\n",
      "Epoch [9], val_loss: 0.0788, val_acc: 0.9242\n",
      "Epoch [10], val_loss: 0.0789, val_acc: 0.9241\n",
      "Epoch [11], val_loss: 0.0788, val_acc: 0.9242\n",
      "Epoch [12], val_loss: 0.0783, val_acc: 0.9247\n",
      "Epoch [13], val_loss: 0.0777, val_acc: 0.9252\n",
      "Epoch [14], val_loss: 0.0777, val_acc: 0.9253\n",
      "Epoch [15], val_loss: 0.0775, val_acc: 0.9255\n",
      "Epoch [16], val_loss: 0.0765, val_acc: 0.9264\n",
      "Epoch [17], val_loss: 0.0766, val_acc: 0.9262\n",
      "Epoch [18], val_loss: 0.0773, val_acc: 0.9257\n",
      "Epoch [19], val_loss: 0.0771, val_acc: 0.9258\n",
      "Epoch [20], val_loss: 0.0768, val_acc: 0.9261\n",
      "Epoch [21], val_loss: 0.0764, val_acc: 0.9264\n",
      "Epoch [22], val_loss: 0.0759, val_acc: 0.9269\n",
      "Epoch [23], val_loss: 0.0760, val_acc: 0.9269\n",
      "Epoch [24], val_loss: 0.0761, val_acc: 0.9267\n",
      "Epoch [25], val_loss: 0.0758, val_acc: 0.9270\n",
      "Epoch [26], val_loss: 0.0768, val_acc: 0.9261\n",
      "Epoch [27], val_loss: 0.0760, val_acc: 0.9268\n",
      "Epoch [28], val_loss: 0.0753, val_acc: 0.9275\n",
      "Epoch [29], val_loss: 0.0757, val_acc: 0.9271\n"
     ]
    }
   ],
   "source": [
    "history += fit(epochs, max_lr, model, train_loader, test_loader,grad_clip=None,weight_decay=weight_decay)"
   ]
  },
  {
   "cell_type": "code",
   "execution_count": 68,
   "id": "3afc737b-2027-42a2-97ed-4447ae612164",
   "metadata": {},
   "outputs": [],
   "source": [
    "def plot_losses(history):\n",
    "    train_losses = [x.get('val_acc') for x in history]\n",
    "    val_losses = [x['val_loss'] for x in history]\n",
    "    plt.plot(train_losses, '-bx')\n",
    "    plt.plot(val_losses, '-rx')\n",
    "    plt.xlabel('epoch')\n",
    "    plt.ylabel('loss')\n",
    "    plt.legend(['Training', 'Validation'])\n",
    "    plt.title('Loss vs. No. of epochs');\n",
    "    plt.show()"
   ]
  },
  {
   "cell_type": "code",
   "execution_count": 69,
   "id": "dfd6680a-fe4a-4d35-856d-2aa42de4195e",
   "metadata": {},
   "outputs": [
    {
     "data": {
      "image/png": "[encoded data removed]",
      "text/plain": [
       "<Figure size 640x480 with 1 Axes>"
      ]
     },
     "metadata": {},
     "output_type": "display_data"
    }
   ],
   "source": [
    "plot_losses(history)"
   ]
  },
  {
   "cell_type": "code",
   "execution_count": 74,
   "id": "e3b36a11-7fdb-40fc-9a15-fd6f2e9b9086",
   "metadata": {},
   "outputs": [],
   "source": [
    "@torch.no_grad\n",
    "\n",
    "def test(model,episodes):\n",
    "    env = gym.make(\"hopper-medium-v0\")\n",
    "    state = env.reset()\n",
    "    state = torch.from_numpy(state).float().reshape(1,11)\n",
    "    # print(state)\n",
    "    total_reward=0\n",
    "    model.eval()\n",
    "    for ep in range(episodes):\n",
    "        action = model(state).reshape(3)\n",
    "        # print(action)\n",
    "        # print(action)\n",
    "        new_state, reward, done, info= env.step(action.numpy())\n",
    "        # print(env.step(action))\n",
    "        total_reward+=reward\n",
    "        # \n",
    "        if done:\n",
    "            # print(f\"{ep} Total reward:\",total_reward)\n",
    "            break\n",
    "        state = torch.from_numpy(new_state).float().reshape(1,11)\n",
    "    # print(total_reward)\n",
    "        img=env.render('rgb_array')\n",
    "        \n",
    "    env.close()\n",
    "    return total_reward"
   ]
  },
  {
   "cell_type": "code",
   "execution_count": 75,
   "id": "1a38b70e-6d0b-40c6-83ad-1bd57de6a300",
   "metadata": {},
   "outputs": [
    {
     "name": "stdout",
     "output_type": "stream",
     "text": [
      "Training mode: False\n",
      "Training mode: False\n"
     ]
    }
   ],
   "source": [
    "model.eval()\n",
    "\n",
    "for module in model.modules():\n",
    "    if isinstance(module, nn.BatchNorm1d):\n",
    "        print(f\"Training mode: {module.training}\")"
   ]
  },
  {
   "cell_type": "code",
   "execution_count": 80,
   "id": "e2ac02fa-e1f8-4e6e-93c5-e4f019654f75",
   "metadata": {
    "scrolled": true
   },
   "outputs": [
    {
     "name": "stdout",
     "output_type": "stream",
     "text": [
      "cpu\n"
     ]
    },
    {
     "data": {
      "image/png": "[encoded data removed]",
      "text/plain": [
       "<Figure size 640x480 with 1 Axes>"
      ]
     },
     "metadata": {},
     "output_type": "display_data"
    }
   ],
   "source": [
    "model.to(torch.device('cpu'))\n",
    "print(next(model.parameters()).device)\n",
    "test_history=[]\n",
    "for i in range(50):\n",
    "    # print(\"=====================\")\n",
    "    test_history.append(test(model,1000))\n",
    "plt.bar(range(len(test_history)),test_history)\n",
    "plt.show()"
   ]
  },
  {
   "cell_type": "code",
   "execution_count": 40,
   "id": "952b2921-1513-43dd-9a73-56e2e3ac6000",
   "metadata": {},
   "outputs": [
    {
     "data": {
      "image/png": "[encoded data removed]",
      "text/plain": [
       "<Figure size 640x480 with 1 Axes>"
      ]
     },
     "metadata": {},
     "output_type": "display_data"
    }
   ],
   "source": []
  },
  {
   "cell_type": "code",
   "execution_count": 155,
   "id": "a840f1f6-b007-4691-b87f-b2febc595699",
   "metadata": {},
   "outputs": [
    {
     "data": {
      "text/plain": [
       "Box(-1.0, 1.0, (2,), float32)"
      ]
     },
     "execution_count": 155,
     "metadata": {},
     "output_type": "execute_result"
    }
   ],
   "source": [
    "env.action_space"
   ]
  },
  {
   "cell_type": "code",
   "execution_count": 156,
   "id": "2c25ae4a-09cf-4903-818b-6d6dfe90274e",
   "metadata": {},
   "outputs": [
    {
     "data": {
      "text/plain": [
       "(array([1.96259572, 2.05850765, 0.12681006, 0.24620351]), 0.0, False, {})"
      ]
     },
     "execution_count": 156,
     "metadata": {},
     "output_type": "execute_result"
    }
   ],
   "source": [
    "env.step((0.3,0.5))"
   ]
  },
  {
   "cell_type": "code",
   "execution_count": 157,
   "id": "d735cc05-5f58-463c-a703-4a08260019dc",
   "metadata": {},
   "outputs": [
    {
     "data": {
      "text/plain": [
       "ValuesView(├──CartPole: [ v0, v1 ]\n",
       "├──MountainCar: [ v0 ]\n",
       "├──MountainCarContinuous: [ v0 ]\n",
       "├──Pendulum: [ v1 ]\n",
       "├──Acrobot: [ v1 ]\n",
       "├──LunarLander: [ v2 ]\n",
       "├──LunarLanderContinuous: [ v2 ]\n",
       "├──BipedalWalker: [ v3 ]\n",
       "├──BipedalWalkerHardcore: [ v3 ]\n",
       "├──CarRacing: [ v1 ]\n",
       "├──Blackjack: [ v1 ]\n",
       "├──FrozenLake: [ v1 ]\n",
       "├──FrozenLake8x8: [ v1 ]\n",
       "├──CliffWalking: [ v0 ]\n",
       "├──Taxi: [ v3 ]\n",
       "├──Reacher: [ v2 ]\n",
       "├──Pusher: [ v2 ]\n",
       "├──InvertedPendulum: [ v2 ]\n",
       "├──InvertedDoublePendulum: [ v2 ]\n",
       "├──HalfCheetah: [ v2, v3 ]\n",
       "├──Hopper: [ v2, v3 ]\n",
       "├──Swimmer: [ v2, v3 ]\n",
       "├──Walker2d: [ v2, v3 ]\n",
       "├──Ant: [ v2, v3 ]\n",
       "├──Humanoid: [ v2, v3 ]\n",
       "├──HumanoidStandup: [ v2 ]\n",
       "├──antmaze-umaze: [ v0, v1, v2 ]\n",
       "├──antmaze-umaze-diverse: [ v0, v1, v2 ]\n",
       "├──antmaze-medium-play: [ v0, v1, v2 ]\n",
       "├──antmaze-medium-diverse: [ v0, v1, v2 ]\n",
       "├──antmaze-large-diverse: [ v0, v1, v2 ]\n",
       "├──antmaze-large-play: [ v0, v1, v2 ]\n",
       "├──antmaze-eval-umaze: [ v0 ]\n",
       "├──antmaze-eval-umaze-diverse: [ v0 ]\n",
       "├──antmaze-eval-medium-play: [ v0 ]\n",
       "├──antmaze-eval-medium-diverse: [ v0 ]\n",
       "├──antmaze-eval-large-diverse: [ v0 ]\n",
       "├──antmaze-eval-large-play: [ v0 ]\n",
       "├──mjrl_point_mass: [ v0 ]\n",
       "├──mjrl_swimmer: [ v0 ]\n",
       "├──mjrl_reacher_7dof: [ v0 ]\n",
       "├──mjrl_peg_insertion: [ v0 ]\n",
       "├──hammer-human: [ v1, v0 ]\n",
       "├──hammer-human-longhorizon: [ v1, v0 ]\n",
       "├──hammer-expert: [ v1, v0 ]\n",
       "├──hammer-cloned: [ v1, v0 ]\n",
       "├──pen-human: [ v1, v0 ]\n",
       "├──pen-human-longhorizon: [ v1, v0 ]\n",
       "├──pen-expert: [ v1, v0 ]\n",
       "├──pen-cloned: [ v1, v0 ]\n",
       "├──relocate-human: [ v1, v0 ]\n",
       "├──relocate-human-longhorizon: [ v1, v0 ]\n",
       "├──relocate-expert: [ v1, v0 ]\n",
       "├──relocate-cloned: [ v1, v0 ]\n",
       "├──door-human: [ v1, v0 ]\n",
       "├──door-human-longhorizon: [ v1, v0 ]\n",
       "├──door-expert: [ v1, v0 ]\n",
       "├──door-cloned: [ v1, v0 ]\n",
       "├──door: [ v0 ]\n",
       "├──hammer: [ v0 ]\n",
       "├──pen: [ v0 ]\n",
       "├──relocate: [ v0 ]\n",
       "├──maze2d-open: [ v0 ]\n",
       "├──maze2d-umaze: [ v0, v1 ]\n",
       "├──maze2d-medium: [ v0, v1 ]\n",
       "├──maze2d-large: [ v0, v1 ]\n",
       "├──maze2d-eval-umaze: [ v1 ]\n",
       "├──maze2d-eval-medium: [ v1 ]\n",
       "├──maze2d-eval-large: [ v1 ]\n",
       "├──maze2d-open-dense: [ v0 ]\n",
       "├──maze2d-umaze-dense: [ v0, v1 ]\n",
       "├──maze2d-medium-dense: [ v0, v1 ]\n",
       "├──maze2d-large-dense: [ v0, v1 ]\n",
       "├──maze2d-eval-umaze-dense: [ v1 ]\n",
       "├──maze2d-eval-medium-dense: [ v1 ]\n",
       "├──maze2d-eval-large-dense: [ v1 ]\n",
       "├──minigrid-fourrooms: [ v0 ]\n",
       "├──minigrid-fourrooms-random: [ v0 ]\n",
       "├──hopper-random: [ v1, v2, v0 ]\n",
       "├──hopper-medium: [ v1, v2, v0 ]\n",
       "├──hopper-expert: [ v1, v2, v0 ]\n",
       "├──hopper-medium-expert: [ v1, v2, v0 ]\n",
       "├──hopper-medium-replay: [ v1, v2, v0 ]\n",
       "├──hopper-full-replay: [ v1, v2 ]\n",
       "├──halfcheetah-random: [ v1, v2, v0 ]\n",
       "├──halfcheetah-medium: [ v1, v2, v0 ]\n",
       "├──halfcheetah-expert: [ v1, v2, v0 ]\n",
       "├──halfcheetah-medium-expert: [ v1, v2, v0 ]\n",
       "├──halfcheetah-medium-replay: [ v1, v2, v0 ]\n",
       "├──halfcheetah-full-replay: [ v1, v2 ]\n",
       "├──ant-random: [ v1, v2, v0 ]\n",
       "├──ant-medium: [ v1, v2, v0 ]\n",
       "├──ant-expert: [ v1, v2, v0 ]\n",
       "├──ant-medium-expert: [ v1, v2, v0 ]\n",
       "├──ant-medium-replay: [ v1, v2, v0 ]\n",
       "├──ant-full-replay: [ v1, v2 ]\n",
       "├──walker2d-random: [ v1, v2, v0 ]\n",
       "├──walker2d-medium: [ v1, v2, v0 ]\n",
       "├──walker2d-expert: [ v1, v2, v0 ]\n",
       "├──walker2d-medium-expert: [ v1, v2, v0 ]\n",
       "├──walker2d-medium-replay: [ v1, v2, v0 ]\n",
       "├──walker2d-full-replay: [ v1, v2 ]\n",
       "├──ant-random-expert: [ v0 ]\n",
       "├──kitchen_relax: [ v1 ]\n",
       "├──kitchen-complete: [ v0 ]\n",
       "├──kitchen-partial: [ v0 ]\n",
       "├──kitchen-mixed: [ v0 ]\n",
       "├──HumanoidDeepMimicBackflipBulletEnv: [ v1 ]\n",
       "├──HumanoidDeepMimicWalkBulletEnv: [ v1 ]\n",
       "├──CartPoleBulletEnv: [ v1 ]\n",
       "├──CartPoleContinuousBulletEnv: [ v0 ]\n",
       "├──MinitaurBulletEnv: [ v0 ]\n",
       "├──MinitaurBulletDuckEnv: [ v0 ]\n",
       "├──MinitaurExtendedEnv: [ v0 ]\n",
       "├──MinitaurReactiveEnv: [ v0 ]\n",
       "├──MinitaurBallGymEnv: [ v0 ]\n",
       "├──MinitaurTrottingEnv: [ v0 ]\n",
       "├──MinitaurStandGymEnv: [ v0 ]\n",
       "├──MinitaurAlternatingLegsEnv: [ v0 ]\n",
       "├──MinitaurFourLegStandEnv: [ v0 ]\n",
       "├──RacecarBulletEnv: [ v0 ]\n",
       "├──RacecarZedBulletEnv: [ v0 ]\n",
       "├──KukaBulletEnv: [ v0 ]\n",
       "├──KukaCamBulletEnv: [ v0 ]\n",
       "├──KukaDiverseObjectGrasping: [ v0 ]\n",
       "├──InvertedPendulumBulletEnv: [ v0 ]\n",
       "├──InvertedDoublePendulumBulletEnv: [ v0 ]\n",
       "├──InvertedPendulumSwingupBulletEnv: [ v0 ]\n",
       "├──ReacherBulletEnv: [ v0 ]\n",
       "├──PusherBulletEnv: [ v0 ]\n",
       "├──ThrowerBulletEnv: [ v0 ]\n",
       "├──Walker2DBulletEnv: [ v0 ]\n",
       "├──HalfCheetahBulletEnv: [ v0 ]\n",
       "├──AntBulletEnv: [ v0 ]\n",
       "├──HopperBulletEnv: [ v0 ]\n",
       "├──HumanoidBulletEnv: [ v0 ]\n",
       "├──HumanoidFlagrunBulletEnv: [ v0 ]\n",
       "├──HumanoidFlagrunHarderBulletEnv: [ v0 ]\n",
       "├──bullet-hopper: [ v0 ]\n",
       "├──bullet-hopper-random: [ v0 ]\n",
       "├──bullet-hopper-medium: [ v0 ]\n",
       "├──bullet-hopper-expert: [ v0 ]\n",
       "├──bullet-hopper-medium-expert: [ v0 ]\n",
       "├──bullet-hopper-medium-replay: [ v0 ]\n",
       "├──bullet-halfcheetah: [ v0 ]\n",
       "├──bullet-halfcheetah-random: [ v0 ]\n",
       "├──bullet-halfcheetah-medium: [ v0 ]\n",
       "├──bullet-halfcheetah-expert: [ v0 ]\n",
       "├──bullet-halfcheetah-medium-expert: [ v0 ]\n",
       "├──bullet-halfcheetah-medium-replay: [ v0 ]\n",
       "├──bullet-ant: [ v0 ]\n",
       "├──bullet-ant-random: [ v0 ]\n",
       "├──bullet-ant-medium: [ v0 ]\n",
       "├──bullet-ant-expert: [ v0 ]\n",
       "├──bullet-ant-medium-expert: [ v0 ]\n",
       "├──bullet-ant-medium-replay: [ v0 ]\n",
       "├──bullet-walker2d: [ v0 ]\n",
       "├──bullet-walker2d-random: [ v0 ]\n",
       "├──bullet-walker2d-medium: [ v0 ]\n",
       "├──bullet-walker2d-expert: [ v0 ]\n",
       "├──bullet-walker2d-medium-expert: [ v0 ]\n",
       "├──bullet-walker2d-medium-replay: [ v0 ]\n",
       "├──bullet-maze2d-open: [ v0 ]\n",
       "├──bullet-maze2d-umaze: [ v0 ]\n",
       "├──bullet-maze2d-medium: [ v0 ]\n",
       "└──bullet-maze2d-large: [ v0 ]\n",
       ")"
      ]
     },
     "execution_count": 157,
     "metadata": {},
     "output_type": "execute_result"
    }
   ],
   "source": [
    "gym.envs.registry.all()"
   ]
  },
  {
   "cell_type": "code",
   "execution_count": null,
   "id": "3d6da081-a3ae-4c66-a13b-e8c7cb495616",
   "metadata": {},
   "outputs": [],
   "source": []
  }
 ],
 "metadata": {
  "kernelspec": {
   "display_name": "IRL_AGV",
   "language": "python",
   "name": "irl_agv"
  },
  "language_info": {
   "codemirror_mode": {
    "name": "ipython",
    "version": 3
   },
   "file_extension": ".py",
   "mimetype": "text/x-python",
   "name": "python",
   "nbconvert_exporter": "python",
   "pygments_lexer": "ipython3",
   "version": "3.10.16"
  }
 },
 "nbformat": 4,
 "nbformat_minor": 5
}
